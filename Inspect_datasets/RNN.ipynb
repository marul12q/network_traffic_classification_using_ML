{
 "cells": [
  {
   "cell_type": "code",
   "execution_count": 1,
   "id": "63eaf5b4",
   "metadata": {},
   "outputs": [
    {
     "name": "stderr",
     "output_type": "stream",
     "text": [
      "2022-06-07 21:36:58.105608: W tensorflow/stream_executor/platform/default/dso_loader.cc:64] Could not load dynamic library 'libcudart.so.11.0'; dlerror: libcudart.so.11.0: cannot open shared object file: No such file or directory\n",
      "2022-06-07 21:36:58.105648: I tensorflow/stream_executor/cuda/cudart_stub.cc:29] Ignore above cudart dlerror if you do not have a GPU set up on your machine.\n"
     ]
    }
   ],
   "source": [
    "import csv\n",
    "import os\n",
    "import pandas as pd\n",
    "import numpy as np\n",
    "import copy\n",
    "import time\n",
    "import pickle\n",
    "import tensorflow as tf\n",
    "from tensorflow.keras import Sequential\n",
    "from tensorflow.keras.layers import Embedding, LSTM, Dropout, Dense, Activation, GRU\n",
    "from sklearn.preprocessing import normalize, LabelEncoder, MinMaxScaler\n",
    "\n",
    "import sklearn.model_selection as model_selection\n",
    "from sklearn.inspection import permutation_importance\n",
    "from sklearn.metrics import accuracy_score, precision_score, recall_score, f1_score, det_curve\n",
    "import matplotlib.pyplot as plt"
   ]
  },
  {
   "cell_type": "code",
   "execution_count": 22,
   "id": "3e97044f",
   "metadata": {},
   "outputs": [],
   "source": [
    "# usefull fucntions\n",
    "def remove_nan_values(sample_array:np.array) -> np.array:\n",
    "    for sample_index, i in enumerate(sample_array):\n",
    "        for value_index, j in enumerate(i):\n",
    "            if j==' ':\n",
    "               sample_array[sample_index][value_index] = 0.0\n",
    "            elif type(j) == str:\n",
    "                sample_array[sample_index][value_index] = int(j)\n",
    "            elif np.isnan(j):\n",
    "               sample_array[sample_index][value_index] = 0.0\n",
    "    return sample_array\n",
    "\n",
    "def remove_1d_array_nan_values(sample_array: np.array, attack_categories: dict) -> np.array:\n",
    "    for value_index, j in enumerate(sample_array):\n",
    "        if j==' ':\n",
    "           sample_array[value_index] = 0.0\n",
    "        elif type(j) == str:\n",
    "            try:\n",
    "                sample_array[value_index] = int(j)\n",
    "            except:\n",
    "                sample_array[value_index] = attack_categories[j]\n",
    "        elif np.isnan(j):\n",
    "           sample_array[value_index] = 0.0\n",
    "    return sample_array\n",
    "\n",
    "def save_model(model, name, prefix) -> None:\n",
    "    \"\"\"Function responsible for saving trained model. It must be called\n",
    "    after defining, training and predict.\n",
    "\n",
    "    :param: None\n",
    "    :return: None\n",
    "    \"\"\"\n",
    "\n",
    "    filename = f\"{name}_{prefix}.sav\"\n",
    "    pickle.dump(model, open(filename, 'wb'))\n",
    "    \n",
    "def load_model(filepath):\n",
    "    \"\"\"Function responsible for load model.\n",
    "\n",
    "    :param: None\n",
    "    :return: None\n",
    "    \"\"\"\n",
    "    return pickle.load(open(filepath, 'rb'))"
   ]
  },
  {
   "cell_type": "code",
   "execution_count": 23,
   "id": "7bab62e8",
   "metadata": {},
   "outputs": [],
   "source": [
    "dataset_testing_path = '/home/mkubita/Pulpit/Praca Magisterska/Zbiory danych/UNSW-NB15/UNSW-NB15 - CSV Files/Splitted_Dataset/UNSW_NB15_testing-set.csv'\n",
    "dataset_traning_path = '/home/mkubita/Pulpit/Praca Magisterska/Zbiory danych/UNSW-NB15/UNSW-NB15 - CSV Files/Splitted_Dataset/UNSW_NB15_training-set.csv'\n",
    "\n",
    "\n",
    "dataset_features_path = '/home/mkubita/Pulpit/Praca Magisterska/Zbiory danych/UNSW-NB15/UNSW-NB15 - CSV Files/NUSW-NB15_features.csv'\n",
    "\n",
    "features_columns = pd.read_csv(dataset_features_path, sep=\",\", encoding='cp1252')\n",
    "features_list = list(features_columns['Name'])"
   ]
  },
  {
   "cell_type": "code",
   "execution_count": 24,
   "id": "70389186",
   "metadata": {},
   "outputs": [],
   "source": [
    "# load data to pandas DataFrame\n",
    "df_training = pd.read_csv(dataset_traning_path, index_col=None, header=0)\n",
    "df_training = df_training.drop(df_training.columns[0], axis=1)\n",
    "\n",
    "df_testing = pd.read_csv(dataset_testing_path, index_col=None, header=0)\n",
    "df_testing = df_testing.drop(df_testing.columns[0], axis=1)"
   ]
  },
  {
   "cell_type": "code",
   "execution_count": 25,
   "id": "1e385100",
   "metadata": {},
   "outputs": [],
   "source": [
    "# features list\n",
    "features_list = list(df_training.columns)\n",
    "features_list.remove('attack_cat')\n",
    "features_list.remove('label')"
   ]
  },
  {
   "cell_type": "code",
   "execution_count": 26,
   "id": "65a9794d",
   "metadata": {},
   "outputs": [],
   "source": [
    "# categorical values\n",
    "categorical_features = ['state', 'proto', 'service']\n",
    "\n",
    "for categorical_feature in categorical_features:\n",
    "    test_list = list(df_testing[features_list][categorical_feature].unique())\n",
    "\n",
    "    label_encoding = {name: index for index, name in enumerate(list(df_training[features_list][categorical_feature].unique()))}\n",
    "    for i in test_list:\n",
    "        if i not in label_encoding.keys():\n",
    "            label_encoding[i] = max(label_encoding.values()) + 1\n",
    "    \n",
    "    \n",
    "    for name, value in label_encoding.items():\n",
    "        df_training[features_list]= df_training[features_list].replace(name, value)\n",
    "        df_testing[features_list]= df_testing[features_list].replace(name, value)\n"
   ]
  },
  {
   "cell_type": "markdown",
   "id": "0271bd31",
   "metadata": {},
   "source": [
    "### Binary classification"
   ]
  },
  {
   "cell_type": "code",
   "execution_count": 27,
   "id": "57a8c7a4",
   "metadata": {},
   "outputs": [],
   "source": [
    "# prepare data for classification\n",
    "x_train = df_training[features_list].to_numpy()\n",
    "y_train = df_training['label'].to_numpy()\n",
    "\n",
    "x_test = df_testing[features_list].to_numpy()\n",
    "y_test = df_testing['label'].to_numpy()\n",
    "\n",
    "# remove nan values\n",
    "x_train = remove_nan_values(x_train)\n",
    "x_test = remove_nan_values(x_test)"
   ]
  },
  {
   "cell_type": "code",
   "execution_count": 28,
   "id": "975ade5c",
   "metadata": {},
   "outputs": [
    {
     "data": {
      "text/html": [
       "<div>\n",
       "<style scoped>\n",
       "    .dataframe tbody tr th:only-of-type {\n",
       "        vertical-align: middle;\n",
       "    }\n",
       "\n",
       "    .dataframe tbody tr th {\n",
       "        vertical-align: top;\n",
       "    }\n",
       "\n",
       "    .dataframe thead th {\n",
       "        text-align: right;\n",
       "    }\n",
       "</style>\n",
       "<table border=\"1\" class=\"dataframe\">\n",
       "  <thead>\n",
       "    <tr style=\"text-align: right;\">\n",
       "      <th></th>\n",
       "      <th>dur</th>\n",
       "      <th>proto</th>\n",
       "      <th>service</th>\n",
       "      <th>state</th>\n",
       "      <th>spkts</th>\n",
       "      <th>dpkts</th>\n",
       "      <th>sbytes</th>\n",
       "      <th>dbytes</th>\n",
       "      <th>rate</th>\n",
       "      <th>sttl</th>\n",
       "      <th>...</th>\n",
       "      <th>ct_dst_sport_ltm</th>\n",
       "      <th>ct_dst_src_ltm</th>\n",
       "      <th>is_ftp_login</th>\n",
       "      <th>ct_ftp_cmd</th>\n",
       "      <th>ct_flw_http_mthd</th>\n",
       "      <th>ct_src_ltm</th>\n",
       "      <th>ct_srv_dst</th>\n",
       "      <th>is_sm_ips_ports</th>\n",
       "      <th>attack_cat</th>\n",
       "      <th>label</th>\n",
       "    </tr>\n",
       "  </thead>\n",
       "  <tbody>\n",
       "    <tr>\n",
       "      <th>0</th>\n",
       "      <td>0.121478</td>\n",
       "      <td>0</td>\n",
       "      <td>0</td>\n",
       "      <td>0</td>\n",
       "      <td>6</td>\n",
       "      <td>4</td>\n",
       "      <td>258</td>\n",
       "      <td>172</td>\n",
       "      <td>74.087490</td>\n",
       "      <td>252</td>\n",
       "      <td>...</td>\n",
       "      <td>1</td>\n",
       "      <td>1</td>\n",
       "      <td>0</td>\n",
       "      <td>0</td>\n",
       "      <td>0</td>\n",
       "      <td>1</td>\n",
       "      <td>1</td>\n",
       "      <td>0</td>\n",
       "      <td>Normal</td>\n",
       "      <td>0</td>\n",
       "    </tr>\n",
       "    <tr>\n",
       "      <th>1</th>\n",
       "      <td>0.649902</td>\n",
       "      <td>0</td>\n",
       "      <td>0</td>\n",
       "      <td>0</td>\n",
       "      <td>14</td>\n",
       "      <td>38</td>\n",
       "      <td>734</td>\n",
       "      <td>42014</td>\n",
       "      <td>78.473372</td>\n",
       "      <td>62</td>\n",
       "      <td>...</td>\n",
       "      <td>1</td>\n",
       "      <td>2</td>\n",
       "      <td>0</td>\n",
       "      <td>0</td>\n",
       "      <td>0</td>\n",
       "      <td>1</td>\n",
       "      <td>6</td>\n",
       "      <td>0</td>\n",
       "      <td>Normal</td>\n",
       "      <td>0</td>\n",
       "    </tr>\n",
       "    <tr>\n",
       "      <th>2</th>\n",
       "      <td>1.623129</td>\n",
       "      <td>0</td>\n",
       "      <td>0</td>\n",
       "      <td>0</td>\n",
       "      <td>8</td>\n",
       "      <td>16</td>\n",
       "      <td>364</td>\n",
       "      <td>13186</td>\n",
       "      <td>14.170161</td>\n",
       "      <td>62</td>\n",
       "      <td>...</td>\n",
       "      <td>1</td>\n",
       "      <td>3</td>\n",
       "      <td>0</td>\n",
       "      <td>0</td>\n",
       "      <td>0</td>\n",
       "      <td>2</td>\n",
       "      <td>6</td>\n",
       "      <td>0</td>\n",
       "      <td>Normal</td>\n",
       "      <td>0</td>\n",
       "    </tr>\n",
       "    <tr>\n",
       "      <th>3</th>\n",
       "      <td>1.681642</td>\n",
       "      <td>0</td>\n",
       "      <td>1</td>\n",
       "      <td>0</td>\n",
       "      <td>12</td>\n",
       "      <td>12</td>\n",
       "      <td>628</td>\n",
       "      <td>770</td>\n",
       "      <td>13.677108</td>\n",
       "      <td>62</td>\n",
       "      <td>...</td>\n",
       "      <td>1</td>\n",
       "      <td>3</td>\n",
       "      <td>1</td>\n",
       "      <td>1</td>\n",
       "      <td>0</td>\n",
       "      <td>2</td>\n",
       "      <td>1</td>\n",
       "      <td>0</td>\n",
       "      <td>Normal</td>\n",
       "      <td>0</td>\n",
       "    </tr>\n",
       "    <tr>\n",
       "      <th>4</th>\n",
       "      <td>0.449454</td>\n",
       "      <td>0</td>\n",
       "      <td>0</td>\n",
       "      <td>0</td>\n",
       "      <td>10</td>\n",
       "      <td>6</td>\n",
       "      <td>534</td>\n",
       "      <td>268</td>\n",
       "      <td>33.373826</td>\n",
       "      <td>254</td>\n",
       "      <td>...</td>\n",
       "      <td>1</td>\n",
       "      <td>40</td>\n",
       "      <td>0</td>\n",
       "      <td>0</td>\n",
       "      <td>0</td>\n",
       "      <td>2</td>\n",
       "      <td>39</td>\n",
       "      <td>0</td>\n",
       "      <td>Normal</td>\n",
       "      <td>0</td>\n",
       "    </tr>\n",
       "    <tr>\n",
       "      <th>...</th>\n",
       "      <td>...</td>\n",
       "      <td>...</td>\n",
       "      <td>...</td>\n",
       "      <td>...</td>\n",
       "      <td>...</td>\n",
       "      <td>...</td>\n",
       "      <td>...</td>\n",
       "      <td>...</td>\n",
       "      <td>...</td>\n",
       "      <td>...</td>\n",
       "      <td>...</td>\n",
       "      <td>...</td>\n",
       "      <td>...</td>\n",
       "      <td>...</td>\n",
       "      <td>...</td>\n",
       "      <td>...</td>\n",
       "      <td>...</td>\n",
       "      <td>...</td>\n",
       "      <td>...</td>\n",
       "      <td>...</td>\n",
       "      <td>...</td>\n",
       "    </tr>\n",
       "    <tr>\n",
       "      <th>175336</th>\n",
       "      <td>0.000009</td>\n",
       "      <td>1</td>\n",
       "      <td>6</td>\n",
       "      <td>1</td>\n",
       "      <td>2</td>\n",
       "      <td>0</td>\n",
       "      <td>114</td>\n",
       "      <td>0</td>\n",
       "      <td>111111.107200</td>\n",
       "      <td>254</td>\n",
       "      <td>...</td>\n",
       "      <td>13</td>\n",
       "      <td>24</td>\n",
       "      <td>0</td>\n",
       "      <td>0</td>\n",
       "      <td>0</td>\n",
       "      <td>24</td>\n",
       "      <td>24</td>\n",
       "      <td>0</td>\n",
       "      <td>Generic</td>\n",
       "      <td>1</td>\n",
       "    </tr>\n",
       "    <tr>\n",
       "      <th>175337</th>\n",
       "      <td>0.505762</td>\n",
       "      <td>0</td>\n",
       "      <td>0</td>\n",
       "      <td>0</td>\n",
       "      <td>10</td>\n",
       "      <td>8</td>\n",
       "      <td>620</td>\n",
       "      <td>354</td>\n",
       "      <td>33.612649</td>\n",
       "      <td>254</td>\n",
       "      <td>...</td>\n",
       "      <td>1</td>\n",
       "      <td>2</td>\n",
       "      <td>0</td>\n",
       "      <td>0</td>\n",
       "      <td>0</td>\n",
       "      <td>1</td>\n",
       "      <td>1</td>\n",
       "      <td>0</td>\n",
       "      <td>Shellcode</td>\n",
       "      <td>1</td>\n",
       "    </tr>\n",
       "    <tr>\n",
       "      <th>175338</th>\n",
       "      <td>0.000009</td>\n",
       "      <td>1</td>\n",
       "      <td>6</td>\n",
       "      <td>1</td>\n",
       "      <td>2</td>\n",
       "      <td>0</td>\n",
       "      <td>114</td>\n",
       "      <td>0</td>\n",
       "      <td>111111.107200</td>\n",
       "      <td>254</td>\n",
       "      <td>...</td>\n",
       "      <td>3</td>\n",
       "      <td>13</td>\n",
       "      <td>0</td>\n",
       "      <td>0</td>\n",
       "      <td>0</td>\n",
       "      <td>3</td>\n",
       "      <td>12</td>\n",
       "      <td>0</td>\n",
       "      <td>Generic</td>\n",
       "      <td>1</td>\n",
       "    </tr>\n",
       "    <tr>\n",
       "      <th>175339</th>\n",
       "      <td>0.000009</td>\n",
       "      <td>1</td>\n",
       "      <td>6</td>\n",
       "      <td>1</td>\n",
       "      <td>2</td>\n",
       "      <td>0</td>\n",
       "      <td>114</td>\n",
       "      <td>0</td>\n",
       "      <td>111111.107200</td>\n",
       "      <td>254</td>\n",
       "      <td>...</td>\n",
       "      <td>14</td>\n",
       "      <td>30</td>\n",
       "      <td>0</td>\n",
       "      <td>0</td>\n",
       "      <td>0</td>\n",
       "      <td>30</td>\n",
       "      <td>30</td>\n",
       "      <td>0</td>\n",
       "      <td>Generic</td>\n",
       "      <td>1</td>\n",
       "    </tr>\n",
       "    <tr>\n",
       "      <th>175340</th>\n",
       "      <td>0.000009</td>\n",
       "      <td>1</td>\n",
       "      <td>6</td>\n",
       "      <td>1</td>\n",
       "      <td>2</td>\n",
       "      <td>0</td>\n",
       "      <td>114</td>\n",
       "      <td>0</td>\n",
       "      <td>111111.107200</td>\n",
       "      <td>254</td>\n",
       "      <td>...</td>\n",
       "      <td>16</td>\n",
       "      <td>30</td>\n",
       "      <td>0</td>\n",
       "      <td>0</td>\n",
       "      <td>0</td>\n",
       "      <td>30</td>\n",
       "      <td>30</td>\n",
       "      <td>0</td>\n",
       "      <td>Generic</td>\n",
       "      <td>1</td>\n",
       "    </tr>\n",
       "  </tbody>\n",
       "</table>\n",
       "<p>175341 rows × 44 columns</p>\n",
       "</div>"
      ],
      "text/plain": [
       "             dur  proto  service  state  spkts  dpkts  sbytes  dbytes  \\\n",
       "0       0.121478      0        0      0      6      4     258     172   \n",
       "1       0.649902      0        0      0     14     38     734   42014   \n",
       "2       1.623129      0        0      0      8     16     364   13186   \n",
       "3       1.681642      0        1      0     12     12     628     770   \n",
       "4       0.449454      0        0      0     10      6     534     268   \n",
       "...          ...    ...      ...    ...    ...    ...     ...     ...   \n",
       "175336  0.000009      1        6      1      2      0     114       0   \n",
       "175337  0.505762      0        0      0     10      8     620     354   \n",
       "175338  0.000009      1        6      1      2      0     114       0   \n",
       "175339  0.000009      1        6      1      2      0     114       0   \n",
       "175340  0.000009      1        6      1      2      0     114       0   \n",
       "\n",
       "                 rate  sttl  ...  ct_dst_sport_ltm  ct_dst_src_ltm  \\\n",
       "0           74.087490   252  ...                 1               1   \n",
       "1           78.473372    62  ...                 1               2   \n",
       "2           14.170161    62  ...                 1               3   \n",
       "3           13.677108    62  ...                 1               3   \n",
       "4           33.373826   254  ...                 1              40   \n",
       "...               ...   ...  ...               ...             ...   \n",
       "175336  111111.107200   254  ...                13              24   \n",
       "175337      33.612649   254  ...                 1               2   \n",
       "175338  111111.107200   254  ...                 3              13   \n",
       "175339  111111.107200   254  ...                14              30   \n",
       "175340  111111.107200   254  ...                16              30   \n",
       "\n",
       "        is_ftp_login  ct_ftp_cmd  ct_flw_http_mthd  ct_src_ltm  ct_srv_dst  \\\n",
       "0                  0           0                 0           1           1   \n",
       "1                  0           0                 0           1           6   \n",
       "2                  0           0                 0           2           6   \n",
       "3                  1           1                 0           2           1   \n",
       "4                  0           0                 0           2          39   \n",
       "...              ...         ...               ...         ...         ...   \n",
       "175336             0           0                 0          24          24   \n",
       "175337             0           0                 0           1           1   \n",
       "175338             0           0                 0           3          12   \n",
       "175339             0           0                 0          30          30   \n",
       "175340             0           0                 0          30          30   \n",
       "\n",
       "        is_sm_ips_ports  attack_cat  label  \n",
       "0                     0      Normal      0  \n",
       "1                     0      Normal      0  \n",
       "2                     0      Normal      0  \n",
       "3                     0      Normal      0  \n",
       "4                     0      Normal      0  \n",
       "...                 ...         ...    ...  \n",
       "175336                0     Generic      1  \n",
       "175337                0   Shellcode      1  \n",
       "175338                0     Generic      1  \n",
       "175339                0     Generic      1  \n",
       "175340                0     Generic      1  \n",
       "\n",
       "[175341 rows x 44 columns]"
      ]
     },
     "execution_count": 28,
     "metadata": {},
     "output_type": "execute_result"
    }
   ],
   "source": [
    "df_training"
   ]
  },
  {
   "cell_type": "code",
   "execution_count": 9,
   "id": "b71fa8f9",
   "metadata": {},
   "outputs": [],
   "source": [
    "# normalization min max\n",
    "scaler = MinMaxScaler()\n",
    "x_train = scaler.fit_transform(x_train)\n",
    "x_test = scaler.fit_transform(x_test)"
   ]
  },
  {
   "cell_type": "code",
   "execution_count": 18,
   "id": "e4430380",
   "metadata": {},
   "outputs": [],
   "source": [
    "model = Sequential()\n",
    "# model.add(Embedding(64, 42, input_length=64))\n",
    "\n",
    "# !!! Play with those! try and get better results!\n",
    "#model.add(SimpleRNN(128))  \n",
    "#model.add(GRU(128))  \n",
    "model.add(LSTM(300, activation=\"tanh\", return_sequences = True, input_shape = (42, 1)))\n",
    "model.add(Dropout(0.4))\n",
    "\n",
    "model.add(LSTM(200, activation=\"tanh\", return_sequences = True))\n",
    "model.add(Dropout(0.4))\n",
    "\n",
    "model.add(LSTM(100, activation=\"tanh\", return_sequences = True))\n",
    "model.add(Dropout(0.4))\n",
    "\n",
    "model.add(LSTM(80, activation=\"tanh\"))\n",
    "model.add(Dropout(0.4))\n",
    "\n",
    "model.add(Dense(1))\n",
    "model.add(Activation('sigmoid'))\n",
    "\n",
    "# try using different optimizers and different optimizer configs\n",
    "model.compile(loss='binary_crossentropy', optimizer='adam', metrics=['accuracy'])"
   ]
  },
  {
   "cell_type": "code",
   "execution_count": 19,
   "id": "c6cde0da",
   "metadata": {},
   "outputs": [
    {
     "name": "stdout",
     "output_type": "stream",
     "text": [
      "Epoch 1/50\n",
      "2740/2740 [==============================] - 616s 223ms/step - loss: 0.2084 - val_loss: 0.3556\n",
      "Epoch 2/50\n",
      "2740/2740 [==============================] - 632s 231ms/step - loss: 0.3367 - val_loss: 0.6172\n",
      "Epoch 3/50\n",
      "2740/2740 [==============================] - 634s 231ms/step - loss: 0.5347 - val_loss: 0.5831\n",
      "Epoch 4/50\n",
      "2740/2740 [==============================] - 649s 237ms/step - loss: 0.5297 - val_loss: 0.5658\n",
      "Epoch 5/50\n",
      "2740/2740 [==============================] - 660s 241ms/step - loss: 0.5023 - val_loss: 0.5439\n",
      "Epoch 6/50\n",
      "2740/2740 [==============================] - 639s 233ms/step - loss: 0.5022 - val_loss: 0.5616\n",
      "Epoch 7/50\n",
      "2740/2740 [==============================] - 679s 248ms/step - loss: 0.4446 - val_loss: 0.3810\n",
      "Epoch 8/50\n",
      "2740/2740 [==============================] - 656s 239ms/step - loss: 0.2263 - val_loss: 0.4000\n",
      "Epoch 9/50\n",
      "2740/2740 [==============================] - 663s 242ms/step - loss: 0.1962 - val_loss: 0.3669\n",
      "Epoch 10/50\n",
      "2740/2740 [==============================] - 700s 256ms/step - loss: 0.3136 - val_loss: 0.5373\n",
      "Epoch 11/50\n",
      "2740/2740 [==============================] - 746s 272ms/step - loss: 0.2997 - val_loss: 0.4033\n",
      "Epoch 12/50\n",
      "2740/2740 [==============================] - 694s 253ms/step - loss: 0.1844 - val_loss: 0.3250\n",
      "Epoch 13/50\n",
      "2740/2740 [==============================] - 673s 246ms/step - loss: 0.1607 - val_loss: 0.3196\n",
      "Epoch 14/50\n",
      "2740/2740 [==============================] - 741s 270ms/step - loss: 0.1530 - val_loss: 0.2873\n",
      "Epoch 15/50\n",
      "2740/2740 [==============================] - 718s 262ms/step - loss: 0.1470 - val_loss: 0.2819\n",
      "Epoch 16/50\n",
      "2740/2740 [==============================] - 714s 261ms/step - loss: 0.1392 - val_loss: 0.3292\n",
      "Epoch 17/50\n",
      "2740/2740 [==============================] - 713s 260ms/step - loss: 0.1283 - val_loss: 0.2620\n",
      "Epoch 18/50\n",
      "2740/2740 [==============================] - 714s 260ms/step - loss: 0.1277 - val_loss: 0.2812\n",
      "Epoch 19/50\n",
      "2740/2740 [==============================] - 713s 260ms/step - loss: 0.1240 - val_loss: 0.3104\n",
      "Epoch 20/50\n",
      "2740/2740 [==============================] - 714s 261ms/step - loss: 0.1280 - val_loss: 0.2709\n",
      "Epoch 21/50\n",
      "2740/2740 [==============================] - 712s 260ms/step - loss: 0.1235 - val_loss: 0.2691\n",
      "Epoch 22/50\n",
      "2740/2740 [==============================] - 714s 261ms/step - loss: 0.1216 - val_loss: 0.2663\n",
      "Epoch 23/50\n",
      "2740/2740 [==============================] - 714s 260ms/step - loss: 0.1198 - val_loss: 0.2636\n",
      "Epoch 24/50\n",
      "2740/2740 [==============================] - 715s 261ms/step - loss: 0.1184 - val_loss: 0.2618\n",
      "Epoch 25/50\n",
      "2740/2740 [==============================] - 716s 261ms/step - loss: 0.1172 - val_loss: 0.2549\n",
      "Epoch 26/50\n",
      "2740/2740 [==============================] - 715s 261ms/step - loss: 0.1164 - val_loss: 0.2568\n",
      "Epoch 27/50\n",
      "2740/2740 [==============================] - 715s 261ms/step - loss: 0.1161 - val_loss: 0.3075\n",
      "Epoch 28/50\n",
      "2740/2740 [==============================] - 714s 261ms/step - loss: 0.1154 - val_loss: 0.2751\n",
      "Epoch 29/50\n",
      "2740/2740 [==============================] - 716s 261ms/step - loss: 0.1143 - val_loss: 0.2508\n",
      "Epoch 30/50\n",
      "2740/2740 [==============================] - 716s 261ms/step - loss: 0.1142 - val_loss: 0.2718\n",
      "Epoch 31/50\n",
      "2740/2740 [==============================] - 717s 262ms/step - loss: 0.1135 - val_loss: 0.2535\n",
      "Epoch 32/50\n",
      "2740/2740 [==============================] - 717s 262ms/step - loss: 0.1131 - val_loss: 0.2504\n",
      "Epoch 33/50\n",
      "2740/2740 [==============================] - 719s 262ms/step - loss: 0.1121 - val_loss: 0.2454\n",
      "Epoch 34/50\n",
      "2740/2740 [==============================] - 719s 262ms/step - loss: 0.1122 - val_loss: 0.2698\n",
      "Epoch 35/50\n",
      "2740/2740 [==============================] - 719s 262ms/step - loss: 0.1132 - val_loss: 0.2961\n",
      "Epoch 36/50\n",
      "2740/2740 [==============================] - 718s 262ms/step - loss: 0.1117 - val_loss: 0.2468\n",
      "Epoch 37/50\n",
      "2740/2740 [==============================] - 719s 262ms/step - loss: 0.1109 - val_loss: 0.2921\n",
      "Epoch 38/50\n",
      "2740/2740 [==============================] - 719s 262ms/step - loss: 0.1108 - val_loss: 0.2581\n",
      "Epoch 39/50\n",
      "2740/2740 [==============================] - 718s 262ms/step - loss: 0.1103 - val_loss: 0.2705\n",
      "Epoch 40/50\n",
      "2740/2740 [==============================] - 721s 263ms/step - loss: 0.1099 - val_loss: 0.2627\n",
      "Epoch 41/50\n",
      "2740/2740 [==============================] - 721s 263ms/step - loss: 0.1099 - val_loss: 0.2677\n",
      "Epoch 42/50\n",
      "2740/2740 [==============================] - 721s 263ms/step - loss: 0.1097 - val_loss: 0.2708\n",
      "Epoch 43/50\n",
      "2740/2740 [==============================] - 721s 263ms/step - loss: 0.1100 - val_loss: 0.2829\n",
      "Epoch 44/50\n",
      "2740/2740 [==============================] - 721s 263ms/step - loss: 0.1086 - val_loss: 0.2523\n",
      "Epoch 45/50\n",
      "2740/2740 [==============================] - 726s 265ms/step - loss: 0.1084 - val_loss: 0.2576\n",
      "Epoch 46/50\n",
      "2740/2740 [==============================] - 714s 261ms/step - loss: 0.1092 - val_loss: 0.2853\n",
      "Epoch 47/50\n",
      "2740/2740 [==============================] - 730s 267ms/step - loss: 0.1081 - val_loss: 0.2653\n",
      "Epoch 48/50\n",
      "2740/2740 [==============================] - 732s 267ms/step - loss: 0.1074 - val_loss: 0.2750\n",
      "Epoch 49/50\n",
      "2740/2740 [==============================] - 3407s 1s/step - loss: 0.1069 - val_loss: 0.2771\n",
      "Epoch 50/50\n",
      "2740/2740 [==============================] - 743s 271ms/step - loss: 0.1077 - val_loss: 0.2743\n",
      "1287/1287 [==============================] - 107s 83ms/step - loss: 0.2743\n"
     ]
    },
    {
     "ename": "TypeError",
     "evalue": "cannot unpack non-iterable float object",
     "output_type": "error",
     "traceback": [
      "\u001b[0;31m---------------------------------------------------------------------------\u001b[0m",
      "\u001b[0;31mTypeError\u001b[0m                                 Traceback (most recent call last)",
      "\u001b[0;32m/tmp/ipykernel_7526/2747631942.py\u001b[0m in \u001b[0;36m<module>\u001b[0;34m\u001b[0m\n\u001b[1;32m      1\u001b[0m model.fit(x_train, y_train, batch_size=64, \n\u001b[1;32m      2\u001b[0m           epochs=50, validation_data=(x_test, y_test))\n\u001b[0;32m----> 3\u001b[0;31m \u001b[0mscore\u001b[0m\u001b[0;34m,\u001b[0m \u001b[0macc\u001b[0m \u001b[0;34m=\u001b[0m \u001b[0mmodel\u001b[0m\u001b[0;34m.\u001b[0m\u001b[0mevaluate\u001b[0m\u001b[0;34m(\u001b[0m\u001b[0mx_test\u001b[0m\u001b[0;34m,\u001b[0m \u001b[0my_test\u001b[0m\u001b[0;34m,\u001b[0m \u001b[0mbatch_size\u001b[0m\u001b[0;34m=\u001b[0m\u001b[0;36m64\u001b[0m\u001b[0;34m)\u001b[0m\u001b[0;34m\u001b[0m\u001b[0;34m\u001b[0m\u001b[0m\n\u001b[0m\u001b[1;32m      4\u001b[0m \u001b[0mprint\u001b[0m\u001b[0;34m(\u001b[0m\u001b[0;34m'Test score:'\u001b[0m\u001b[0;34m,\u001b[0m \u001b[0mscore\u001b[0m\u001b[0;34m)\u001b[0m\u001b[0;34m\u001b[0m\u001b[0;34m\u001b[0m\u001b[0m\n\u001b[1;32m      5\u001b[0m \u001b[0mprint\u001b[0m\u001b[0;34m(\u001b[0m\u001b[0;34m'Test accuracy:'\u001b[0m\u001b[0;34m,\u001b[0m \u001b[0macc\u001b[0m\u001b[0;34m)\u001b[0m\u001b[0;34m\u001b[0m\u001b[0;34m\u001b[0m\u001b[0m\n",
      "\u001b[0;31mTypeError\u001b[0m: cannot unpack non-iterable float object"
     ]
    }
   ],
   "source": [
    "model.fit(x_train, y_train, batch_size=64, \n",
    "          epochs=20, validation_data=(x_test, y_test))\n"
   ]
  },
  {
   "cell_type": "code",
   "execution_count": 45,
   "id": "bd49124d",
   "metadata": {},
   "outputs": [],
   "source": [
    "prediction_lstm = model.predict(x_test)"
   ]
  },
  {
   "cell_type": "code",
   "execution_count": 55,
   "id": "f799ef98",
   "metadata": {},
   "outputs": [
    {
     "data": {
      "text/plain": [
       "array([9.5346922e-01, 8.9072037e-01, 8.7229699e-01, ..., 3.8040637e-06,\n",
       "       3.8040637e-06, 9.1604716e-01], dtype=float32)"
      ]
     },
     "execution_count": 55,
     "metadata": {},
     "output_type": "execute_result"
    }
   ],
   "source": [
    "a = prediction_lstm.flatten()\n",
    "a"
   ]
  },
  {
   "cell_type": "code",
   "execution_count": 58,
   "id": "6962f7bf",
   "metadata": {},
   "outputs": [],
   "source": [
    "pre2 = [int(round(i,0)) for i in a]"
   ]
  },
  {
   "cell_type": "code",
   "execution_count": 41,
   "id": "d1a85f13",
   "metadata": {},
   "outputs": [
    {
     "name": "stdout",
     "output_type": "stream",
     "text": [
      "1287/1287 [==============================] - 112s 87ms/step - loss: 0.2743\n"
     ]
    },
    {
     "data": {
      "text/plain": [
       "0.27425017952919006"
      ]
     },
     "execution_count": 41,
     "metadata": {},
     "output_type": "execute_result"
    }
   ],
   "source": [
    "model.evaluate(x_test, y_test, batch_size=64)"
   ]
  },
  {
   "cell_type": "code",
   "execution_count": 59,
   "id": "1a8abfed",
   "metadata": {},
   "outputs": [
    {
     "name": "stdout",
     "output_type": "stream",
     "text": [
      "0.8666375163970267 0.8125068228958189 0.9851098561722403 0.8905218657147985\n"
     ]
    }
   ],
   "source": [
    "accuracy = accuracy_score(y_test, pre2)\n",
    "precision = precision_score(y_test, pre2, average='binary')\n",
    "recall = recall_score(y_test, pre2, average='binary')\n",
    "f1_ = f1_score(y_test, pre2, average='binary')\n",
    "\n",
    "print(accuracy, precision, recall, f1_)"
   ]
  },
  {
   "cell_type": "code",
   "execution_count": 21,
   "id": "86f4785b",
   "metadata": {},
   "outputs": [
    {
     "name": "stderr",
     "output_type": "stream",
     "text": [
      "2022-05-31 09:26:42.289700: W tensorflow/python/util/util.cc:368] Sets are not currently considered sequences, but this may change in the future, so consider avoiding using them.\n",
      "WARNING:absl:Found untraced functions such as lstm_cell_2_layer_call_fn, lstm_cell_2_layer_call_and_return_conditional_losses, lstm_cell_3_layer_call_fn, lstm_cell_3_layer_call_and_return_conditional_losses, lstm_cell_4_layer_call_fn while saving (showing 5 of 8). These functions will not be directly callable after loading.\n"
     ]
    },
    {
     "name": "stdout",
     "output_type": "stream",
     "text": [
      "INFO:tensorflow:Assets written to: ram://5fe980b4-f6a6-4972-a3f2-3425650c5112/assets\n"
     ]
    },
    {
     "name": "stderr",
     "output_type": "stream",
     "text": [
      "INFO:tensorflow:Assets written to: ram://5fe980b4-f6a6-4972-a3f2-3425650c5112/assets\n",
      "WARNING:absl:<keras.layers.recurrent.LSTMCell object at 0x7fb7c0094c10> has the same name 'LSTMCell' as a built-in Keras object. Consider renaming <class 'keras.layers.recurrent.LSTMCell'> to avoid naming conflicts when loading with `tf.keras.models.load_model`. If renaming is not possible, pass the object in the `custom_objects` parameter of the load function.\n",
      "WARNING:absl:<keras.layers.recurrent.LSTMCell object at 0x7fb7c00ac130> has the same name 'LSTMCell' as a built-in Keras object. Consider renaming <class 'keras.layers.recurrent.LSTMCell'> to avoid naming conflicts when loading with `tf.keras.models.load_model`. If renaming is not possible, pass the object in the `custom_objects` parameter of the load function.\n",
      "WARNING:absl:<keras.layers.recurrent.LSTMCell object at 0x7fb7c00854c0> has the same name 'LSTMCell' as a built-in Keras object. Consider renaming <class 'keras.layers.recurrent.LSTMCell'> to avoid naming conflicts when loading with `tf.keras.models.load_model`. If renaming is not possible, pass the object in the `custom_objects` parameter of the load function.\n",
      "WARNING:absl:<keras.layers.recurrent.LSTMCell object at 0x7fb798080670> has the same name 'LSTMCell' as a built-in Keras object. Consider renaming <class 'keras.layers.recurrent.LSTMCell'> to avoid naming conflicts when loading with `tf.keras.models.load_model`. If renaming is not possible, pass the object in the `custom_objects` parameter of the load function.\n"
     ]
    }
   ],
   "source": [
    "save_model(model, 'LSTM', 'BIN_ALL')"
   ]
  },
  {
   "cell_type": "code",
   "execution_count": null,
   "id": "a6a9f721",
   "metadata": {},
   "outputs": [],
   "source": []
  },
  {
   "cell_type": "code",
   "execution_count": 10,
   "id": "24a0f5d7",
   "metadata": {},
   "outputs": [
    {
     "name": "stderr",
     "output_type": "stream",
     "text": [
      "2022-05-31 18:03:47.152836: I tensorflow/stream_executor/cuda/cuda_gpu_executor.cc:936] successful NUMA node read from SysFS had negative value (-1), but there must be at least one NUMA node, so returning NUMA node zero\n",
      "2022-05-31 18:03:47.153495: W tensorflow/stream_executor/platform/default/dso_loader.cc:64] Could not load dynamic library 'libcudart.so.11.0'; dlerror: libcudart.so.11.0: cannot open shared object file: No such file or directory\n",
      "2022-05-31 18:03:47.153612: W tensorflow/stream_executor/platform/default/dso_loader.cc:64] Could not load dynamic library 'libcublas.so.11'; dlerror: libcublas.so.11: cannot open shared object file: No such file or directory\n",
      "2022-05-31 18:03:47.153719: W tensorflow/stream_executor/platform/default/dso_loader.cc:64] Could not load dynamic library 'libcublasLt.so.11'; dlerror: libcublasLt.so.11: cannot open shared object file: No such file or directory\n",
      "2022-05-31 18:03:47.176446: W tensorflow/stream_executor/platform/default/dso_loader.cc:64] Could not load dynamic library 'libcusolver.so.11'; dlerror: libcusolver.so.11: cannot open shared object file: No such file or directory\n",
      "2022-05-31 18:03:47.176596: W tensorflow/stream_executor/platform/default/dso_loader.cc:64] Could not load dynamic library 'libcusparse.so.11'; dlerror: libcusparse.so.11: cannot open shared object file: No such file or directory\n",
      "2022-05-31 18:03:47.176707: W tensorflow/stream_executor/platform/default/dso_loader.cc:64] Could not load dynamic library 'libcudnn.so.8'; dlerror: libcudnn.so.8: cannot open shared object file: No such file or directory\n",
      "2022-05-31 18:03:47.176722: W tensorflow/core/common_runtime/gpu/gpu_device.cc:1850] Cannot dlopen some GPU libraries. Please make sure the missing libraries mentioned above are installed properly if you would like to use GPU. Follow the guide at https://www.tensorflow.org/install/gpu for how to download and setup the required libraries for your platform.\n",
      "Skipping registering GPU devices...\n",
      "2022-05-31 18:03:47.177883: I tensorflow/core/platform/cpu_feature_guard.cc:151] This TensorFlow binary is optimized with oneAPI Deep Neural Network Library (oneDNN) to use the following CPU instructions in performance-critical operations:  AVX2 FMA\n",
      "To enable them in other operations, rebuild TensorFlow with the appropriate compiler flags.\n"
     ]
    }
   ],
   "source": [
    "model_GRU = Sequential()\n",
    "\n",
    "model_GRU.add(GRU(300, activation=\"tanh\", return_sequences = True, input_shape = (42, 1)))\n",
    "model_GRU.add(Dropout(0.4))\n",
    "\n",
    "model_GRU.add(GRU(200, activation=\"tanh\", return_sequences = True))\n",
    "model_GRU.add(Dropout(0.4))\n",
    "\n",
    "model_GRU.add(GRU(100, activation=\"tanh\", return_sequences = True))\n",
    "model_GRU.add(Dropout(0.4))\n",
    "\n",
    "model_GRU.add(GRU(80, activation=\"tanh\"))\n",
    "model_GRU.add(Dropout(0.4))\n",
    "\n",
    "model_GRU.add(Dense(1))\n",
    "model_GRU.add(Activation('sigmoid'))\n",
    "\n",
    "# try using different optimizers and different optimizer configs\n",
    "model_GRU.compile(loss='binary_crossentropy', optimizer='adam', metrics=['accuracy'])"
   ]
  },
  {
   "cell_type": "code",
   "execution_count": 11,
   "id": "de0b0c36",
   "metadata": {},
   "outputs": [
    {
     "name": "stdout",
     "output_type": "stream",
     "text": [
      "Epoch 1/20\n",
      "2740/2740 [==============================] - 594s 214ms/step - loss: 0.2007 - accuracy: 0.9150 - val_loss: 0.3334 - val_accuracy: 0.8394\n",
      "Epoch 2/20\n",
      "2740/2740 [==============================] - 582s 213ms/step - loss: 0.1382 - accuracy: 0.9348 - val_loss: 0.3476 - val_accuracy: 0.8381\n",
      "Epoch 3/20\n",
      "2740/2740 [==============================] - 586s 214ms/step - loss: 0.1340 - accuracy: 0.9363 - val_loss: 0.3162 - val_accuracy: 0.8452\n",
      "Epoch 4/20\n",
      "2740/2740 [==============================] - 528s 193ms/step - loss: 0.1296 - accuracy: 0.9370 - val_loss: 0.2601 - val_accuracy: 0.8683\n",
      "Epoch 5/20\n",
      "2740/2740 [==============================] - 533s 195ms/step - loss: 0.1253 - accuracy: 0.9390 - val_loss: 0.2830 - val_accuracy: 0.8448\n",
      "Epoch 6/20\n",
      "2740/2740 [==============================] - 561s 205ms/step - loss: 0.1235 - accuracy: 0.9399 - val_loss: 0.3207 - val_accuracy: 0.8271\n",
      "Epoch 7/20\n",
      "2740/2740 [==============================] - 560s 205ms/step - loss: 0.1207 - accuracy: 0.9408 - val_loss: 0.2783 - val_accuracy: 0.8399\n",
      "Epoch 8/20\n",
      "2740/2740 [==============================] - 589s 215ms/step - loss: 0.1208 - accuracy: 0.9399 - val_loss: 0.2790 - val_accuracy: 0.8610\n",
      "Epoch 9/20\n",
      "2740/2740 [==============================] - 568s 207ms/step - loss: 0.1199 - accuracy: 0.9410 - val_loss: 0.2789 - val_accuracy: 0.8629\n",
      "Epoch 10/20\n",
      "2740/2740 [==============================] - 593s 217ms/step - loss: 0.1163 - accuracy: 0.9413 - val_loss: 0.2910 - val_accuracy: 0.8597\n",
      "Epoch 11/20\n",
      "2740/2740 [==============================] - 590s 215ms/step - loss: 0.1164 - accuracy: 0.9414 - val_loss: 0.2627 - val_accuracy: 0.8791\n",
      "Epoch 12/20\n",
      "2740/2740 [==============================] - 589s 215ms/step - loss: 0.1160 - accuracy: 0.9422 - val_loss: 0.2614 - val_accuracy: 0.8648\n",
      "Epoch 13/20\n",
      "2740/2740 [==============================] - 588s 215ms/step - loss: 0.1144 - accuracy: 0.9427 - val_loss: 0.2698 - val_accuracy: 0.8730\n",
      "Epoch 14/20\n",
      "2740/2740 [==============================] - 588s 215ms/step - loss: 0.1161 - accuracy: 0.9427 - val_loss: 0.2656 - val_accuracy: 0.8469\n",
      "Epoch 15/20\n",
      "2740/2740 [==============================] - 589s 215ms/step - loss: 0.1144 - accuracy: 0.9428 - val_loss: 0.2636 - val_accuracy: 0.8697\n",
      "Epoch 16/20\n",
      "2740/2740 [==============================] - 589s 215ms/step - loss: 0.1145 - accuracy: 0.9425 - val_loss: 0.2707 - val_accuracy: 0.8824\n",
      "Epoch 17/20\n",
      "2740/2740 [==============================] - 589s 215ms/step - loss: 0.1140 - accuracy: 0.9433 - val_loss: 0.2580 - val_accuracy: 0.8830\n",
      "Epoch 18/20\n",
      "2740/2740 [==============================] - 591s 216ms/step - loss: 0.1147 - accuracy: 0.9427 - val_loss: 0.2978 - val_accuracy: 0.8379\n",
      "Epoch 19/20\n",
      "2740/2740 [==============================] - 591s 216ms/step - loss: 0.1133 - accuracy: 0.9435 - val_loss: 0.2964 - val_accuracy: 0.8624\n",
      "Epoch 20/20\n",
      "2740/2740 [==============================] - 592s 216ms/step - loss: 0.1126 - accuracy: 0.9439 - val_loss: 0.2927 - val_accuracy: 0.8435\n"
     ]
    },
    {
     "data": {
      "text/plain": [
       "<keras.callbacks.History at 0x7fdd1c589fd0>"
      ]
     },
     "execution_count": 11,
     "metadata": {},
     "output_type": "execute_result"
    }
   ],
   "source": [
    "model_GRU.fit(x_train, y_train, batch_size=64, \n",
    "          epochs=20, validation_data=(x_test, y_test))\n"
   ]
  },
  {
   "cell_type": "code",
   "execution_count": null,
   "id": "65c1af6c",
   "metadata": {},
   "outputs": [],
   "source": [
    "# score2 = model_GRU.evaluate(x_test, y_test, batch_size=100)\n",
    "# print('Test score:', score2)\n",
    "# # print('Test accuracy:', acc)"
   ]
  },
  {
   "cell_type": "code",
   "execution_count": 17,
   "id": "ace22640",
   "metadata": {},
   "outputs": [],
   "source": [
    "prediction_gru_bin = model_GRU.predict(x_test)"
   ]
  },
  {
   "cell_type": "code",
   "execution_count": 18,
   "id": "d91513dc",
   "metadata": {},
   "outputs": [],
   "source": [
    "pre3 = [int(round(i,0)) for i in prediction_gru_bin.flatten()]"
   ]
  },
  {
   "cell_type": "code",
   "execution_count": 19,
   "id": "4006bf8f",
   "metadata": {},
   "outputs": [
    {
     "name": "stdout",
     "output_type": "stream",
     "text": [
      "0.843523781761648 0.7822093892957158 0.9920144710138533 0.8747070208027387\n"
     ]
    }
   ],
   "source": [
    "accuracy2 = accuracy_score(y_test, pre3)\n",
    "precision2 = precision_score(y_test, pre3, average='binary')\n",
    "recall2 = recall_score(y_test, pre3, average='binary')\n",
    "f1_2 = f1_score(y_test, pre3, average='binary')\n",
    "\n",
    "print(accuracy2, precision2, recall2, f1_2)"
   ]
  },
  {
   "cell_type": "code",
   "execution_count": 12,
   "id": "42acb571",
   "metadata": {},
   "outputs": [
    {
     "name": "stderr",
     "output_type": "stream",
     "text": [
      "2022-05-31 21:17:05.420749: W tensorflow/python/util/util.cc:368] Sets are not currently considered sequences, but this may change in the future, so consider avoiding using them.\n",
      "WARNING:absl:Found untraced functions such as gru_cell_layer_call_fn, gru_cell_layer_call_and_return_conditional_losses, gru_cell_1_layer_call_fn, gru_cell_1_layer_call_and_return_conditional_losses, gru_cell_2_layer_call_fn while saving (showing 5 of 8). These functions will not be directly callable after loading.\n"
     ]
    },
    {
     "name": "stdout",
     "output_type": "stream",
     "text": [
      "INFO:tensorflow:Assets written to: ram://7e0533cf-6341-4efa-a07d-fc69341bd15c/assets\n"
     ]
    },
    {
     "name": "stderr",
     "output_type": "stream",
     "text": [
      "INFO:tensorflow:Assets written to: ram://7e0533cf-6341-4efa-a07d-fc69341bd15c/assets\n",
      "WARNING:absl:<keras.layers.recurrent.GRUCell object at 0x7fdd207c61f0> has the same name 'GRUCell' as a built-in Keras object. Consider renaming <class 'keras.layers.recurrent.GRUCell'> to avoid naming conflicts when loading with `tf.keras.models.load_model`. If renaming is not possible, pass the object in the `custom_objects` parameter of the load function.\n",
      "WARNING:absl:<keras.layers.recurrent.GRUCell object at 0x7fdd1c819820> has the same name 'GRUCell' as a built-in Keras object. Consider renaming <class 'keras.layers.recurrent.GRUCell'> to avoid naming conflicts when loading with `tf.keras.models.load_model`. If renaming is not possible, pass the object in the `custom_objects` parameter of the load function.\n",
      "WARNING:absl:<keras.layers.recurrent.GRUCell object at 0x7fdd1c683580> has the same name 'GRUCell' as a built-in Keras object. Consider renaming <class 'keras.layers.recurrent.GRUCell'> to avoid naming conflicts when loading with `tf.keras.models.load_model`. If renaming is not possible, pass the object in the `custom_objects` parameter of the load function.\n",
      "WARNING:absl:<keras.layers.recurrent.GRUCell object at 0x7fdd1c607ca0> has the same name 'GRUCell' as a built-in Keras object. Consider renaming <class 'keras.layers.recurrent.GRUCell'> to avoid naming conflicts when loading with `tf.keras.models.load_model`. If renaming is not possible, pass the object in the `custom_objects` parameter of the load function.\n"
     ]
    }
   ],
   "source": [
    "save_model(model_GRU, 'GRU', 'BIN_ALL')"
   ]
  },
  {
   "cell_type": "code",
   "execution_count": 10,
   "id": "a6660570",
   "metadata": {},
   "outputs": [],
   "source": [
    "chosen_features = ['sttl', 'ct_state_ttl', 'sload', 'rate', 'dload', 'dttl', 'sbytes', 'ct_srv_dst', 'smean', \n",
    "                  'dmean', 'dbytes', 'ackdat', 'ct_dst_src_ltm', 'ct_srv_src', 'dur', 'tcprtt', 'synack',\n",
    "                  'dinpkt', 'sinpkt', 'dpkts']\n"
   ]
  },
  {
   "cell_type": "code",
   "execution_count": 11,
   "id": "7babba6b",
   "metadata": {},
   "outputs": [],
   "source": [
    "# prepare data for classification\n",
    "x_train_reduced_bin = df_training[features_list][chosen_features].to_numpy()\n",
    "y_train_reduced_bin = df_training['label'].to_numpy()\n",
    "\n",
    "x_test_reduced_bin = df_testing[features_list][chosen_features].to_numpy()\n",
    "y_test_reduced_bin = df_testing['label'].to_numpy()\n",
    "\n",
    "# remove nan values\n",
    "x_train_reduced_bin = remove_nan_values(x_train_reduced_bin)\n",
    "x_test_reduced_bin = remove_nan_values(x_test_reduced_bin)"
   ]
  },
  {
   "cell_type": "code",
   "execution_count": 12,
   "id": "56dce856",
   "metadata": {},
   "outputs": [],
   "source": [
    "# normalization min max\n",
    "scaler = MinMaxScaler()\n",
    "x_train_reduced_bin = scaler.fit_transform(x_train_reduced_bin)\n",
    "x_test_reduced_bin = scaler.fit_transform(x_test_reduced_bin)"
   ]
  },
  {
   "cell_type": "code",
   "execution_count": 24,
   "id": "7c2ad273",
   "metadata": {},
   "outputs": [],
   "source": [
    "model_LSTM_BIN_reduced = Sequential()\n",
    "\n",
    "model_LSTM_BIN_reduced.add(LSTM(300, activation=\"tanh\", return_sequences = True, input_shape = (20, 1)))\n",
    "model_LSTM_BIN_reduced.add(Dropout(0.4))\n",
    "\n",
    "model_LSTM_BIN_reduced.add(LSTM(200, activation=\"tanh\", return_sequences = True))\n",
    "model_LSTM_BIN_reduced.add(Dropout(0.4))\n",
    "\n",
    "model_LSTM_BIN_reduced.add(LSTM(100, activation=\"tanh\", return_sequences = True))\n",
    "model_LSTM_BIN_reduced.add(Dropout(0.4))\n",
    "\n",
    "model_LSTM_BIN_reduced.add(LSTM(80, activation=\"tanh\"))\n",
    "model_LSTM_BIN_reduced.add(Dropout(0.4))\n",
    "\n",
    "model_LSTM_BIN_reduced.add(Dense(1))\n",
    "model_LSTM_BIN_reduced.add(Activation('sigmoid'))\n",
    "\n",
    "# try using different optimizers and different optimizer configs\n",
    "model_LSTM_BIN_reduced.compile(loss='binary_crossentropy', optimizer='adam', metrics=['accuracy'])"
   ]
  },
  {
   "cell_type": "code",
   "execution_count": 25,
   "id": "c1544a1a",
   "metadata": {},
   "outputs": [
    {
     "name": "stdout",
     "output_type": "stream",
     "text": [
      "Epoch 1/20\n",
      "2740/2740 [==============================] - 318s 114ms/step - loss: 0.4994 - accuracy: 0.7750 - val_loss: 0.6366 - val_accuracy: 0.7660\n",
      "Epoch 2/20\n",
      "2740/2740 [==============================] - 317s 116ms/step - loss: 0.2662 - accuracy: 0.9200 - val_loss: 0.5886 - val_accuracy: 0.7660\n",
      "Epoch 3/20\n",
      "2740/2740 [==============================] - 318s 116ms/step - loss: 0.2628 - accuracy: 0.9206 - val_loss: 0.6184 - val_accuracy: 0.7660\n",
      "Epoch 4/20\n",
      "2740/2740 [==============================] - 318s 116ms/step - loss: 0.3275 - accuracy: 0.8880 - val_loss: 0.5937 - val_accuracy: 0.7660\n",
      "Epoch 5/20\n",
      "2740/2740 [==============================] - 319s 116ms/step - loss: 0.2651 - accuracy: 0.9182 - val_loss: 0.5829 - val_accuracy: 0.7660\n",
      "Epoch 6/20\n",
      "2740/2740 [==============================] - 318s 116ms/step - loss: 0.2626 - accuracy: 0.9196 - val_loss: 0.5468 - val_accuracy: 0.7885\n",
      "Epoch 7/20\n",
      "2740/2740 [==============================] - 318s 116ms/step - loss: 0.2612 - accuracy: 0.9202 - val_loss: 0.5969 - val_accuracy: 0.7660\n",
      "Epoch 8/20\n",
      "2740/2740 [==============================] - 373s 136ms/step - loss: 0.2584 - accuracy: 0.9205 - val_loss: 0.6063 - val_accuracy: 0.7660\n",
      "Epoch 9/20\n",
      "2740/2740 [==============================] - 382s 140ms/step - loss: 0.2583 - accuracy: 0.9205 - val_loss: 0.5923 - val_accuracy: 0.7660\n",
      "Epoch 10/20\n",
      "2740/2740 [==============================] - 361s 132ms/step - loss: 0.2574 - accuracy: 0.9206 - val_loss: 0.5809 - val_accuracy: 0.7660\n",
      "Epoch 11/20\n",
      "2740/2740 [==============================] - 317s 116ms/step - loss: 0.2579 - accuracy: 0.9204 - val_loss: 1.0205 - val_accuracy: 0.5623\n",
      "Epoch 12/20\n",
      "2740/2740 [==============================] - 318s 116ms/step - loss: 0.2720 - accuracy: 0.9121 - val_loss: 0.5997 - val_accuracy: 0.7660\n",
      "Epoch 13/20\n",
      "2740/2740 [==============================] - 309s 113ms/step - loss: 0.2573 - accuracy: 0.9206 - val_loss: 0.5864 - val_accuracy: 0.7660\n",
      "Epoch 14/20\n",
      "2740/2740 [==============================] - 310s 113ms/step - loss: 0.2573 - accuracy: 0.9206 - val_loss: 0.5943 - val_accuracy: 0.7660\n",
      "Epoch 15/20\n",
      "2740/2740 [==============================] - 316s 115ms/step - loss: 0.2575 - accuracy: 0.9205 - val_loss: 0.5943 - val_accuracy: 0.7660\n",
      "Epoch 16/20\n",
      "2740/2740 [==============================] - 339s 124ms/step - loss: 0.2612 - accuracy: 0.9185 - val_loss: 0.5967 - val_accuracy: 0.7660\n",
      "Epoch 17/20\n",
      "2740/2740 [==============================] - 340s 124ms/step - loss: 0.2528 - accuracy: 0.9224 - val_loss: 0.5490 - val_accuracy: 0.7885\n",
      "Epoch 18/20\n",
      "2740/2740 [==============================] - 339s 124ms/step - loss: 0.2524 - accuracy: 0.9228 - val_loss: 0.5895 - val_accuracy: 0.7660\n",
      "Epoch 19/20\n",
      "2740/2740 [==============================] - 347s 127ms/step - loss: 0.2550 - accuracy: 0.9218 - val_loss: 0.5877 - val_accuracy: 0.7660\n",
      "Epoch 20/20\n",
      "2740/2740 [==============================] - 357s 130ms/step - loss: 0.2497 - accuracy: 0.9234 - val_loss: 0.5523 - val_accuracy: 0.7885\n"
     ]
    },
    {
     "data": {
      "text/plain": [
       "<keras.callbacks.History at 0x7fdc9a4821c0>"
      ]
     },
     "execution_count": 25,
     "metadata": {},
     "output_type": "execute_result"
    }
   ],
   "source": [
    "model_LSTM_BIN_reduced.fit(x_train_reduced_bin, y_train_reduced_bin, batch_size=64, \n",
    "          epochs=20, validation_data=(x_test_reduced_bin, y_test_reduced_bin))"
   ]
  },
  {
   "cell_type": "code",
   "execution_count": 29,
   "id": "0434efb8",
   "metadata": {},
   "outputs": [],
   "source": [
    "lstm_reduced_bin = model_LSTM_BIN_reduced.predict(x_test_reduced_bin)"
   ]
  },
  {
   "cell_type": "code",
   "execution_count": 30,
   "id": "8ff619e7",
   "metadata": {},
   "outputs": [],
   "source": [
    "pre4 = [int(round(i,0)) for i in lstm_reduced_bin.flatten()]"
   ]
  },
  {
   "cell_type": "code",
   "execution_count": 32,
   "id": "6f78e492",
   "metadata": {},
   "outputs": [
    {
     "name": "stdout",
     "output_type": "stream",
     "text": [
      "0.7884540640334257 0.7234451292723926 0.9968675549280861 0.8384277855598951\n"
     ]
    }
   ],
   "source": [
    "accuracy3 = accuracy_score(y_test_reduced_bin, pre4)\n",
    "precision3 = precision_score(y_test_reduced_bin, pre4, average='binary')\n",
    "recall3 = recall_score(y_test_reduced_bin, pre4, average='binary')\n",
    "f1_3 = f1_score(y_test_reduced_bin, pre4, average='binary')\n",
    "\n",
    "print(accuracy3, precision3, recall3, f1_3)"
   ]
  },
  {
   "cell_type": "code",
   "execution_count": 26,
   "id": "f9892ff1",
   "metadata": {},
   "outputs": [
    {
     "name": "stderr",
     "output_type": "stream",
     "text": [
      "WARNING:absl:Found untraced functions such as lstm_cell_6_layer_call_fn, lstm_cell_6_layer_call_and_return_conditional_losses, lstm_cell_7_layer_call_fn, lstm_cell_7_layer_call_and_return_conditional_losses, lstm_cell_8_layer_call_fn while saving (showing 5 of 8). These functions will not be directly callable after loading.\n"
     ]
    },
    {
     "name": "stdout",
     "output_type": "stream",
     "text": [
      "INFO:tensorflow:Assets written to: ram://5bdd7e7c-ec85-4f17-a4d7-52f8c64ebf2b/assets\n"
     ]
    },
    {
     "name": "stderr",
     "output_type": "stream",
     "text": [
      "INFO:tensorflow:Assets written to: ram://5bdd7e7c-ec85-4f17-a4d7-52f8c64ebf2b/assets\n",
      "WARNING:absl:<keras.layers.recurrent.LSTMCell object at 0x7fdc99c694f0> has the same name 'LSTMCell' as a built-in Keras object. Consider renaming <class 'keras.layers.recurrent.LSTMCell'> to avoid naming conflicts when loading with `tf.keras.models.load_model`. If renaming is not possible, pass the object in the `custom_objects` parameter of the load function.\n",
      "WARNING:absl:<keras.layers.recurrent.LSTMCell object at 0x7fdc9a335e20> has the same name 'LSTMCell' as a built-in Keras object. Consider renaming <class 'keras.layers.recurrent.LSTMCell'> to avoid naming conflicts when loading with `tf.keras.models.load_model`. If renaming is not possible, pass the object in the `custom_objects` parameter of the load function.\n",
      "WARNING:absl:<keras.layers.recurrent.LSTMCell object at 0x7fdc99d3cfa0> has the same name 'LSTMCell' as a built-in Keras object. Consider renaming <class 'keras.layers.recurrent.LSTMCell'> to avoid naming conflicts when loading with `tf.keras.models.load_model`. If renaming is not possible, pass the object in the `custom_objects` parameter of the load function.\n",
      "WARNING:absl:<keras.layers.recurrent.LSTMCell object at 0x7fdc99f72730> has the same name 'LSTMCell' as a built-in Keras object. Consider renaming <class 'keras.layers.recurrent.LSTMCell'> to avoid naming conflicts when loading with `tf.keras.models.load_model`. If renaming is not possible, pass the object in the `custom_objects` parameter of the load function.\n"
     ]
    }
   ],
   "source": [
    "save_model(model_LSTM_BIN_reduced, 'LSTM', 'BIN_REDUCED')"
   ]
  },
  {
   "cell_type": "code",
   "execution_count": 13,
   "id": "b5bba256",
   "metadata": {},
   "outputs": [
    {
     "name": "stderr",
     "output_type": "stream",
     "text": [
      "2022-06-07 21:39:56.428147: I tensorflow/stream_executor/cuda/cuda_gpu_executor.cc:936] successful NUMA node read from SysFS had negative value (-1), but there must be at least one NUMA node, so returning NUMA node zero\n",
      "2022-06-07 21:39:56.429081: W tensorflow/stream_executor/platform/default/dso_loader.cc:64] Could not load dynamic library 'libcudart.so.11.0'; dlerror: libcudart.so.11.0: cannot open shared object file: No such file or directory\n",
      "2022-06-07 21:39:56.429192: W tensorflow/stream_executor/platform/default/dso_loader.cc:64] Could not load dynamic library 'libcublas.so.11'; dlerror: libcublas.so.11: cannot open shared object file: No such file or directory\n",
      "2022-06-07 21:39:56.429283: W tensorflow/stream_executor/platform/default/dso_loader.cc:64] Could not load dynamic library 'libcublasLt.so.11'; dlerror: libcublasLt.so.11: cannot open shared object file: No such file or directory\n",
      "2022-06-07 21:39:56.431512: W tensorflow/stream_executor/platform/default/dso_loader.cc:64] Could not load dynamic library 'libcusolver.so.11'; dlerror: libcusolver.so.11: cannot open shared object file: No such file or directory\n",
      "2022-06-07 21:39:56.431621: W tensorflow/stream_executor/platform/default/dso_loader.cc:64] Could not load dynamic library 'libcusparse.so.11'; dlerror: libcusparse.so.11: cannot open shared object file: No such file or directory\n",
      "2022-06-07 21:39:56.431737: W tensorflow/stream_executor/platform/default/dso_loader.cc:64] Could not load dynamic library 'libcudnn.so.8'; dlerror: libcudnn.so.8: cannot open shared object file: No such file or directory\n",
      "2022-06-07 21:39:56.431753: W tensorflow/core/common_runtime/gpu/gpu_device.cc:1850] Cannot dlopen some GPU libraries. Please make sure the missing libraries mentioned above are installed properly if you would like to use GPU. Follow the guide at https://www.tensorflow.org/install/gpu for how to download and setup the required libraries for your platform.\n",
      "Skipping registering GPU devices...\n",
      "2022-06-07 21:39:56.432406: I tensorflow/core/platform/cpu_feature_guard.cc:151] This TensorFlow binary is optimized with oneAPI Deep Neural Network Library (oneDNN) to use the following CPU instructions in performance-critical operations:  AVX2 FMA\n",
      "To enable them in other operations, rebuild TensorFlow with the appropriate compiler flags.\n"
     ]
    }
   ],
   "source": [
    "model_GRU_REDUCED = Sequential()\n",
    "\n",
    "model_GRU_REDUCED.add(GRU(300, activation=\"tanh\", return_sequences = True, input_shape = (20, 1)))\n",
    "model_GRU_REDUCED.add(Dropout(0.4))\n",
    "\n",
    "model_GRU_REDUCED.add(GRU(200, activation=\"tanh\", return_sequences = True))\n",
    "model_GRU_REDUCED.add(Dropout(0.4))\n",
    "\n",
    "model_GRU_REDUCED.add(GRU(100, activation=\"tanh\", return_sequences = True))\n",
    "model_GRU_REDUCED.add(Dropout(0.4))\n",
    "\n",
    "model_GRU_REDUCED.add(GRU(80, activation=\"tanh\"))\n",
    "model_GRU_REDUCED.add(Dropout(0.4))\n",
    "\n",
    "model_GRU_REDUCED.add(Dense(1))\n",
    "model_GRU_REDUCED.add(Activation('sigmoid'))\n",
    "\n",
    "# try using different optimizers and different optimizer configs\n",
    "model_GRU_REDUCED.compile(loss='binary_crossentropy', optimizer='adam', metrics=['accuracy'])"
   ]
  },
  {
   "cell_type": "code",
   "execution_count": 34,
   "id": "9f431d79",
   "metadata": {},
   "outputs": [
    {
     "name": "stdout",
     "output_type": "stream",
     "text": [
      "Epoch 1/20\n",
      "2740/2740 [==============================] - 265s 95ms/step - loss: 0.2842 - accuracy: 0.9100 - val_loss: 0.6143 - val_accuracy: 0.7660\n",
      "Epoch 2/20\n",
      "2740/2740 [==============================] - 300s 110ms/step - loss: 0.2632 - accuracy: 0.9205 - val_loss: 0.5945 - val_accuracy: 0.7660\n",
      "Epoch 3/20\n",
      "2740/2740 [==============================] - 291s 106ms/step - loss: 0.2604 - accuracy: 0.9204 - val_loss: 0.5935 - val_accuracy: 0.7660\n",
      "Epoch 4/20\n",
      "2740/2740 [==============================] - 297s 108ms/step - loss: 0.2589 - accuracy: 0.9203 - val_loss: 0.6104 - val_accuracy: 0.7660\n",
      "Epoch 5/20\n",
      "2740/2740 [==============================] - 313s 114ms/step - loss: 0.2585 - accuracy: 0.9204 - val_loss: 0.5879 - val_accuracy: 0.7660\n",
      "Epoch 6/20\n",
      "2740/2740 [==============================] - 304s 111ms/step - loss: 0.2582 - accuracy: 0.9205 - val_loss: 0.5613 - val_accuracy: 0.7660\n",
      "Epoch 7/20\n",
      "2740/2740 [==============================] - 252s 92ms/step - loss: 0.2575 - accuracy: 0.9205 - val_loss: 0.5844 - val_accuracy: 0.7660\n",
      "Epoch 8/20\n",
      "2740/2740 [==============================] - 267s 97ms/step - loss: 0.2562 - accuracy: 0.9206 - val_loss: 0.5599 - val_accuracy: 0.7882\n",
      "Epoch 9/20\n",
      "2740/2740 [==============================] - 261s 95ms/step - loss: 0.2256 - accuracy: 0.9256 - val_loss: 0.4756 - val_accuracy: 0.7887\n",
      "Epoch 10/20\n",
      "2740/2740 [==============================] - 312s 114ms/step - loss: 0.2084 - accuracy: 0.9262 - val_loss: 0.4456 - val_accuracy: 0.7887\n",
      "Epoch 11/20\n",
      "2740/2740 [==============================] - 294s 107ms/step - loss: 0.1998 - accuracy: 0.9263 - val_loss: 0.4729 - val_accuracy: 0.7973\n",
      "Epoch 12/20\n",
      "2740/2740 [==============================] - 273s 99ms/step - loss: 0.1934 - accuracy: 0.9287 - val_loss: 0.4394 - val_accuracy: 0.8147\n",
      "Epoch 13/20\n",
      "2740/2740 [==============================] - 301s 110ms/step - loss: 0.1756 - accuracy: 0.9298 - val_loss: 0.4003 - val_accuracy: 0.8080\n",
      "Epoch 14/20\n",
      "2740/2740 [==============================] - 301s 110ms/step - loss: 0.1696 - accuracy: 0.9308 - val_loss: 0.3557 - val_accuracy: 0.8225\n",
      "Epoch 15/20\n",
      "2740/2740 [==============================] - 301s 110ms/step - loss: 0.1589 - accuracy: 0.9318 - val_loss: 0.3191 - val_accuracy: 0.8431\n",
      "Epoch 16/20\n",
      "2740/2740 [==============================] - 301s 110ms/step - loss: 0.1531 - accuracy: 0.9334 - val_loss: 0.3775 - val_accuracy: 0.8233\n",
      "Epoch 17/20\n",
      "2740/2740 [==============================] - 301s 110ms/step - loss: 0.1476 - accuracy: 0.9336 - val_loss: 0.3100 - val_accuracy: 0.8399\n",
      "Epoch 18/20\n",
      "2740/2740 [==============================] - 300s 109ms/step - loss: 0.1386 - accuracy: 0.9346 - val_loss: 0.3707 - val_accuracy: 0.8144\n",
      "Epoch 19/20\n",
      "2740/2740 [==============================] - 301s 110ms/step - loss: 0.1362 - accuracy: 0.9351 - val_loss: 0.3237 - val_accuracy: 0.8279\n",
      "Epoch 20/20\n",
      "2740/2740 [==============================] - 300s 110ms/step - loss: 0.1340 - accuracy: 0.9361 - val_loss: 0.3226 - val_accuracy: 0.8236\n"
     ]
    },
    {
     "data": {
      "text/plain": [
       "<keras.callbacks.History at 0x7fdc986a35e0>"
      ]
     },
     "execution_count": 34,
     "metadata": {},
     "output_type": "execute_result"
    }
   ],
   "source": [
    "model_GRU_REDUCED.fit(x_train_reduced_bin, y_train_reduced_bin, batch_size=64, \n",
    "          epochs=20, validation_data=(x_test_reduced_bin, y_test_reduced_bin))"
   ]
  },
  {
   "cell_type": "code",
   "execution_count": 35,
   "id": "b25b3feb",
   "metadata": {},
   "outputs": [
    {
     "name": "stderr",
     "output_type": "stream",
     "text": [
      "WARNING:absl:Found untraced functions such as gru_cell_8_layer_call_fn, gru_cell_8_layer_call_and_return_conditional_losses, gru_cell_9_layer_call_fn, gru_cell_9_layer_call_and_return_conditional_losses, gru_cell_10_layer_call_fn while saving (showing 5 of 8). These functions will not be directly callable after loading.\n"
     ]
    },
    {
     "name": "stdout",
     "output_type": "stream",
     "text": [
      "INFO:tensorflow:Assets written to: ram://3eff3c0e-91ee-4c08-9478-0da73dc87297/assets\n"
     ]
    },
    {
     "name": "stderr",
     "output_type": "stream",
     "text": [
      "INFO:tensorflow:Assets written to: ram://3eff3c0e-91ee-4c08-9478-0da73dc87297/assets\n",
      "WARNING:absl:<keras.layers.recurrent.GRUCell object at 0x7fdc996ac1c0> has the same name 'GRUCell' as a built-in Keras object. Consider renaming <class 'keras.layers.recurrent.GRUCell'> to avoid naming conflicts when loading with `tf.keras.models.load_model`. If renaming is not possible, pass the object in the `custom_objects` parameter of the load function.\n",
      "WARNING:absl:<keras.layers.recurrent.GRUCell object at 0x7fdc996a11f0> has the same name 'GRUCell' as a built-in Keras object. Consider renaming <class 'keras.layers.recurrent.GRUCell'> to avoid naming conflicts when loading with `tf.keras.models.load_model`. If renaming is not possible, pass the object in the `custom_objects` parameter of the load function.\n",
      "WARNING:absl:<keras.layers.recurrent.GRUCell object at 0x7fdc985c0520> has the same name 'GRUCell' as a built-in Keras object. Consider renaming <class 'keras.layers.recurrent.GRUCell'> to avoid naming conflicts when loading with `tf.keras.models.load_model`. If renaming is not possible, pass the object in the `custom_objects` parameter of the load function.\n",
      "WARNING:absl:<keras.layers.recurrent.GRUCell object at 0x7fdc999a6760> has the same name 'GRUCell' as a built-in Keras object. Consider renaming <class 'keras.layers.recurrent.GRUCell'> to avoid naming conflicts when loading with `tf.keras.models.load_model`. If renaming is not possible, pass the object in the `custom_objects` parameter of the load function.\n"
     ]
    }
   ],
   "source": [
    "save_model(model_GRU_REDUCED, 'GRU', 'BIN_REDUCED')"
   ]
  },
  {
   "cell_type": "code",
   "execution_count": 17,
   "id": "3ec67416",
   "metadata": {},
   "outputs": [],
   "source": [
    "model_GRU_REDUCED = load_model('./GRU_BIN_REDUCED.sav')"
   ]
  },
  {
   "cell_type": "code",
   "execution_count": 18,
   "id": "f0fb7541",
   "metadata": {},
   "outputs": [],
   "source": [
    "gru_reduced_bin = model_GRU_REDUCED.predict(x_test_reduced_bin)"
   ]
  },
  {
   "cell_type": "code",
   "execution_count": 19,
   "id": "4e92dc22",
   "metadata": {},
   "outputs": [],
   "source": [
    "pre5 = [int(round(i,0)) for i in gru_reduced_bin.flatten()]"
   ]
  },
  {
   "cell_type": "code",
   "execution_count": 21,
   "id": "2119b6bc",
   "metadata": {},
   "outputs": [
    {
     "name": "stdout",
     "output_type": "stream",
     "text": [
      "0.8236165767866687 0.7587683934690587 0.9964484249536751 0.8615158681721086\n"
     ]
    }
   ],
   "source": [
    "accuracy3 = accuracy_score(y_test_reduced_bin, pre5)\n",
    "precision3 = precision_score(y_test_reduced_bin, pre5, average='binary')\n",
    "recall3 = recall_score(y_test_reduced_bin, pre5, average='binary')\n",
    "f1_3 = f1_score(y_test_reduced_bin, pre5, average='binary')\n",
    "\n",
    "print(accuracy3, precision3, recall3, f1_3)"
   ]
  },
  {
   "cell_type": "code",
   "execution_count": null,
   "id": "823118e9",
   "metadata": {},
   "outputs": [],
   "source": [
    "y_train_multi = df_training['attack_cat']\n",
    "y_test_multi = df_testing['attack_cat']\n",
    "\n",
    "attack_categories = {name: index for index, name in enumerate(df_training['attack_cat'].unique())}\n",
    "for category in attack_categories:\n",
    "    y_train_multi = df_training['attack_cat'].replace(category, attack_categories[category])\n",
    "    \n",
    "for category in attack_categories:\n",
    "    y_test_multi = df_testing['attack_cat'].replace(category, attack_categories[category])\n",
    "    \n",
    "\n",
    "y_train_multi = y_train_multi.to_numpy()\n",
    "y_test_multi = y_test_multi.to_numpy()\n",
    "\n",
    "# remove nan values\n",
    "y_train_multi = remove_1d_array_nan_values(y_train_multi, attack_categories)\n",
    "y_test_multi = remove_1d_array_nan_values(y_test_multi, attack_categories)\n",
    "y_train_multi = y_train_multi.astype('int')\n",
    "y_test_multi = y_test_multi.astype('int')"
   ]
  },
  {
   "cell_type": "code",
   "execution_count": null,
   "id": "f1131099",
   "metadata": {},
   "outputs": [],
   "source": [
    "model_LSTM_BIN_ALL = Sequential()\n",
    "\n",
    "model_LSTM_BIN_ALL.add(LSTM(300, activation=\"tanh\", return_sequences = True, input_shape = (42, 1)))\n",
    "model_LSTM_BIN_ALL.add(Dropout(0.4))\n",
    "\n",
    "model_LSTM_BIN_ALL.add(LSTM(200, activation=\"tanh\", return_sequences = True))\n",
    "model_LSTM_BIN_ALL.add(Dropout(0.4))\n",
    "\n",
    "model_LSTM_BIN_ALL.add(LSTM(100, activation=\"tanh\", return_sequences = True))\n",
    "model_LSTM_BIN_ALL.add(Dropout(0.4))\n",
    "\n",
    "model_LSTM_BIN_ALL.add(LSTM(80, activation=\"tanh\"))\n",
    "model_LSTM_BIN_ALL.add(Dropout(0.4))\n",
    "\n",
    "model_LSTM_BIN_ALL.add(Dense(1))\n",
    "model_LSTM_BIN_ALL.add(Activation('sigmoid'))\n",
    "\n",
    "# try using different optimizers and different optimizer configs\n",
    "model_LSTM_BIN_ALL.compile(loss='binary_crossentropy', optimizer='adam', metrics=['accuracy'])"
   ]
  },
  {
   "cell_type": "code",
   "execution_count": null,
   "id": "b11140ac",
   "metadata": {},
   "outputs": [],
   "source": [
    "model_LSTM_BIN_ALL.fit(x_train_multi, y_train_multi, batch_size=64, \n",
    "          epochs=20, validation_data=(x_test, y_test_multi))"
   ]
  },
  {
   "cell_type": "code",
   "execution_count": null,
   "id": "b5cc16ce",
   "metadata": {},
   "outputs": [],
   "source": [
    "save_model(model_LSTM_BIN_ALL, 'LSTM', 'MULTI_ALL')"
   ]
  },
  {
   "cell_type": "code",
   "execution_count": null,
   "id": "8242562f",
   "metadata": {},
   "outputs": [],
   "source": [
    "predict_lstm_multi_all = model_LSTM_BIN_ALL.predict(x_test)"
   ]
  },
  {
   "cell_type": "code",
   "execution_count": null,
   "id": "33c2b073",
   "metadata": {},
   "outputs": [],
   "source": [
    "pre6 = [int(round(i,0)) for i in predict_lstm_multi_all.flatten()]"
   ]
  },
  {
   "cell_type": "code",
   "execution_count": null,
   "id": "6c4f85d5",
   "metadata": {},
   "outputs": [],
   "source": [
    "accuracy4 = accuracy_score(y_test_multi, pre6)\n",
    "precision4 = precision_score(y_test_multi, pre6, average='binary')\n",
    "recall4 = recall_score(y_test_multi, pre6, average='binary')\n",
    "f1_4 = f1_score(y_test_multi, pre6, average='binary')\n",
    "\n",
    "print(accuracy4, precision4, recall4, f1_4)"
   ]
  },
  {
   "cell_type": "code",
   "execution_count": null,
   "id": "8fb06b93",
   "metadata": {},
   "outputs": [],
   "source": [
    "model_GRU_MULTI = Sequential()\n",
    "\n",
    "model_GRU_MULTI.add(GRU(300, activation=\"tanh\", return_sequences = True, input_shape = (20, 1)))\n",
    "model_GRU_MULTI.add(Dropout(0.4))\n",
    "\n",
    "model_GRU_MULTI.add(GRU(200, activation=\"tanh\", return_sequences = True))\n",
    "model_GRU_MULTI.add(Dropout(0.4))\n",
    "\n",
    "model_GRU_MULTI.add(GRU(100, activation=\"tanh\", return_sequences = True))\n",
    "model_GRU_MULTI.add(Dropout(0.4))\n",
    "\n",
    "model_GRU_MULTI.add(GRU(80, activation=\"tanh\"))\n",
    "model_GRU_MULTI.add(Dropout(0.4))\n",
    "\n",
    "model_GRU_MULTI.add(Dense(1))\n",
    "model_GRU_MULTI.add(Activation('sigmoid'))\n",
    "\n",
    "# try using different optimizers and different optimizer configs\n",
    "model_GRU_MULTI.compile(loss='binary_crossentropy', optimizer='adam', metrics=['accuracy'])"
   ]
  },
  {
   "cell_type": "code",
   "execution_count": null,
   "id": "6b9c9f27",
   "metadata": {},
   "outputs": [],
   "source": [
    "model_GRU_MULTI.fit(x_train_multi, y_train_multi, batch_size=64, \n",
    "          epochs=20, validation_data=(x_test, y_test_multi))"
   ]
  },
  {
   "cell_type": "code",
   "execution_count": null,
   "id": "a0540582",
   "metadata": {},
   "outputs": [],
   "source": [
    "save_model(model_GRU_MULTI, 'GRU', 'MULTI_ALL')"
   ]
  },
  {
   "cell_type": "code",
   "execution_count": null,
   "id": "c3a1fb09",
   "metadata": {},
   "outputs": [],
   "source": [
    "predict_gru_multi_all = model_GRU_MULTI.predict(x_test)"
   ]
  },
  {
   "cell_type": "code",
   "execution_count": null,
   "id": "4445224c",
   "metadata": {},
   "outputs": [],
   "source": [
    "pre7 = [int(round(i,0)) for i in predict_gru_multi_all.flatten()]"
   ]
  },
  {
   "cell_type": "code",
   "execution_count": null,
   "id": "295d6fe5",
   "metadata": {},
   "outputs": [],
   "source": [
    "accuracy4 = accuracy_score(y_test_multi, pre7)\n",
    "precision4 = precision_score(y_test_multi, pre7, average='binary')\n",
    "recall4 = recall_score(y_test_multi, pre7, average='binary')\n",
    "f1_4 = f1_score(y_test_multi, pre7, average='binary')\n",
    "\n",
    "print(accuracy4, precision4, recall4, f1_4)"
   ]
  },
  {
   "cell_type": "code",
   "execution_count": null,
   "id": "b8130eca",
   "metadata": {},
   "outputs": [],
   "source": [
    "model_LSTM_MULTI_REDUCED = Sequential()\n",
    "\n",
    "model_LSTM_MULTI_REDUCED.add(LSTM(300, activation=\"tanh\", return_sequences = True, input_shape = (20, 1)))\n",
    "model_LSTM_MULTI_REDUCED.add(Dropout(0.4))\n",
    "\n",
    "model_LSTM_MULTI_REDUCED.add(LSTM(200, activation=\"tanh\", return_sequences = True))\n",
    "model_LSTM_MULTI_REDUCED.add(Dropout(0.4))\n",
    "\n",
    "model_LSTM_MULTI_REDUCED.add(LSTM(100, activation=\"tanh\", return_sequences = True))\n",
    "model_LSTM_MULTI_REDUCED.add(Dropout(0.4))\n",
    "\n",
    "model_LSTM_MULTI_REDUCED.add(LSTM(80, activation=\"tanh\"))\n",
    "model_LSTM_MULTI_REDUCED.add(Dropout(0.4))\n",
    "\n",
    "model_LSTM_MULTI_REDUCED.add(Dense(1))\n",
    "model_LSTM_MULTI_REDUCED.add(Activation('sigmoid'))\n",
    "\n",
    "# try using different optimizers and different optimizer configs\n",
    "model_LSTM_MULTI_REDUCED.compile(loss='binary_crossentropy', optimizer='adam', metrics=['accuracy'])"
   ]
  }
 ],
 "metadata": {
  "kernelspec": {
   "display_name": "Python 3 (ipykernel)",
   "language": "python",
   "name": "python3"
  },
  "language_info": {
   "codemirror_mode": {
    "name": "ipython",
    "version": 3
   },
   "file_extension": ".py",
   "mimetype": "text/x-python",
   "name": "python",
   "nbconvert_exporter": "python",
   "pygments_lexer": "ipython3",
   "version": "3.9.7"
  }
 },
 "nbformat": 4,
 "nbformat_minor": 5
}

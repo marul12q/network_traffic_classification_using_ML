{
 "cells": [
  {
   "cell_type": "code",
   "execution_count": 1,
   "id": "8471d574",
   "metadata": {},
   "outputs": [],
   "source": [
    "import csv\n",
    "import os\n",
    "import pandas as pd\n",
    "import numpy as np\n",
    "import copy\n",
    "import time\n",
    "import pickle\n",
    "import matplotlib.pyplot as plt\n",
    "\n",
    "from sklearn import svm\n",
    "from sklearn.svm import LinearSVC\n",
    "from sklearn.ensemble import RandomForestClassifier, AdaBoostClassifier, GradientBoostingClassifier\n",
    "from sklearn.tree import DecisionTreeClassifier\n",
    "from sklearn.neighbors import RadiusNeighborsClassifier, KNeighborsClassifier\n",
    "from sklearn.naive_bayes import GaussianNB, BernoulliNB, MultinomialNB, ComplementNB, CategoricalNB\n",
    "\n",
    "from sklearn.neural_network import MLPClassifier\n",
    "from sklearn.linear_model import PassiveAggressiveClassifier, SGDClassifier\n",
    "from sklearn.preprocessing import normalize, MinMaxScaler\n",
    "\n",
    "import sklearn.model_selection as model_selection\n",
    "from sklearn.inspection import permutation_importance\n",
    "from sklearn.metrics import accuracy_score, precision_score, recall_score, confusion_matrix\n",
    "from sklearn.metrics import f1_score"
   ]
  },
  {
   "cell_type": "code",
   "execution_count": null,
   "id": "e91724fa",
   "metadata": {},
   "outputs": [],
   "source": []
  },
  {
   "cell_type": "code",
   "execution_count": 2,
   "id": "bb280d61",
   "metadata": {},
   "outputs": [],
   "source": [
    "# usefull fucntions\n",
    "def remove_nan_values(sample_array:np.array) -> np.array:\n",
    "    for sample_index, i in enumerate(sample_array):\n",
    "        for value_index, j in enumerate(i):\n",
    "            if np.isnan(j):\n",
    "               sample_array[sample_index][value_index] = 0.0\n",
    "    return sample_array\n",
    "\n",
    "def remove_1d_array_nan_values(sample_array: np.array, attack_categories: dict) -> np.array:\n",
    "    for value_index, j in enumerate(sample_array):\n",
    "        if j==' ':\n",
    "           sample_array[value_index] = 0.0\n",
    "        elif type(j) == str:\n",
    "            try:\n",
    "                sample_array[value_index] = int(j)\n",
    "            except:\n",
    "                sample_array[value_index] = attack_categories[j]\n",
    "        elif np.isnan(j):\n",
    "           sample_array[value_index] = 0.0\n",
    "    return sample_array\n",
    "\n",
    "def save_model(model, meta) -> None:\n",
    "    \"\"\"Function responsible for saving trained model. It must be called\n",
    "    after defining, training and predict.\n",
    "\n",
    "    :param: None\n",
    "    :return: None\n",
    "    \"\"\"\n",
    "\n",
    "    filename = f\"finalized_{meta}_{model}.sav\"\n",
    "    pickle.dump(model, open(filename, 'wb'))\n",
    "    \n",
    "def load_model(filepath):\n",
    "    \"\"\"Function responsible for load model.\n",
    "\n",
    "    :param: None\n",
    "    :return: None\n",
    "    \"\"\"\n",
    "    return pickle.load(open(filepath, 'rb'))"
   ]
  },
  {
   "cell_type": "markdown",
   "id": "2fd73cd7",
   "metadata": {},
   "source": [
    "## Load data"
   ]
  },
  {
   "cell_type": "code",
   "execution_count": 3,
   "id": "6d7af6f5",
   "metadata": {},
   "outputs": [
    {
     "data": {
      "text/plain": [
       "['Friday-WorkingHours-Afternoon-PortScan.pcap_ISCX.csv',\n",
       " 'Thursday-WorkingHours-Afternoon-Infilteration.pcap_ISCX.csv',\n",
       " 'Wednesday-workingHours.pcap_ISCX.csv',\n",
       " 'Thursday-WorkingHours-Morning-WebAttacks.pcap_ISCX.csv',\n",
       " 'Monday-WorkingHours.pcap_ISCX.csv',\n",
       " 'Friday-WorkingHours-Afternoon-DDos.pcap_ISCX.csv',\n",
       " 'Tuesday-WorkingHours.pcap_ISCX.csv',\n",
       " 'Friday-WorkingHours-Morning.pcap_ISCX.csv']"
      ]
     },
     "execution_count": 3,
     "metadata": {},
     "output_type": "execute_result"
    }
   ],
   "source": [
    "dataset_path = '../../Datasets/CIC-IDS2017/MachineLearningCVE'\n",
    "os.listdir(dataset_path)"
   ]
  },
  {
   "cell_type": "code",
   "execution_count": 4,
   "id": "87ee0148",
   "metadata": {},
   "outputs": [],
   "source": [
    "csv_files = [os.path.join(dataset_path,file) for file in os.listdir(dataset_path)]"
   ]
  },
  {
   "cell_type": "code",
   "execution_count": 5,
   "id": "c3585ce7",
   "metadata": {},
   "outputs": [],
   "source": [
    "# load multiple files\n",
    "li = []\n",
    "df = None\n",
    "for csv_file in csv_files:\n",
    "    df = pd.read_csv(csv_file, index_col=None, header=0)\n",
    "    li.append(df)\n",
    "\n",
    "frame = pd.concat(li, ignore_index=True)"
   ]
  },
  {
   "cell_type": "code",
   "execution_count": 6,
   "id": "5c4fb3a4",
   "metadata": {},
   "outputs": [],
   "source": [
    "labels = {value: index for index, value in enumerate(list(frame[' Label'].unique()))}\n",
    "labels_binary = {value: 1 for index, value in enumerate(labels) if index!=0}\n",
    "labels_binary['BENIGN'] = 0"
   ]
  },
  {
   "cell_type": "code",
   "execution_count": 25,
   "id": "94e001a1",
   "metadata": {},
   "outputs": [
    {
     "data": {
      "text/plain": [
       "0          BENIGN\n",
       "1          BENIGN\n",
       "2          BENIGN\n",
       "3          BENIGN\n",
       "4          BENIGN\n",
       "            ...  \n",
       "2830738    BENIGN\n",
       "2830739    BENIGN\n",
       "2830740    BENIGN\n",
       "2830741    BENIGN\n",
       "2830742    BENIGN\n",
       "Name:  Label, Length: 2273097, dtype: object"
      ]
     },
     "execution_count": 25,
     "metadata": {},
     "output_type": "execute_result"
    }
   ],
   "source": [
    "frame[frame[' Label'] == 'BENIGN'][' Label']"
   ]
  },
  {
   "cell_type": "code",
   "execution_count": 32,
   "id": "545fe69e",
   "metadata": {},
   "outputs": [],
   "source": [
    "frame.replace('BENIGN', 'Normal', inplace=True)\n",
    "frame.replace('PortScan', 'Scanning', inplace=True)\n",
    "frame.replace('DoS slowloris', 'Dos', inplace=True)\n",
    "frame.replace('DoS Slowhttptest', 'Dos', inplace=True)\n",
    "frame.replace('Dos Hulk', 'Dos', inplace=True)\n",
    "frame.replace('Web Attack � Brute Force', 'Brute Force', inplace=True)\n",
    "frame.replace('Web Attack � Sql Injection', 'Sql Injection', inplace=True)\n",
    "frame.replace('Web Attack � XSS', 'XSS', inplace=True)\n",
    "frame.replace('DoS GoldenEye', 'Dos', inplace=True)\n",
    "# frame.replace('DoS GoldenEye', 'Dos', inplace=True)"
   ]
  },
  {
   "cell_type": "code",
   "execution_count": 33,
   "id": "6f393eee",
   "metadata": {},
   "outputs": [
    {
     "data": {
      "text/plain": [
       "array(['Normal', 'Scanning', 'Infiltration', 'Dos', 'DoS Hulk',\n",
       "       'Heartbleed', 'Brute Force', 'XSS', 'Sql Injection', 'DDoS',\n",
       "       'FTP-Patator', 'SSH-Patator', 'Bot'], dtype=object)"
      ]
     },
     "execution_count": 33,
     "metadata": {},
     "output_type": "execute_result"
    }
   ],
   "source": [
    "frame[' Label'].unique()"
   ]
  },
  {
   "cell_type": "code",
   "execution_count": 11,
   "id": "d5bcf6d3",
   "metadata": {},
   "outputs": [
    {
     "data": {
      "image/png": "[encoded data removed]",
      "text/plain": [
       "<Figure size 1152x576 with 1 Axes>"
      ]
     },
     "metadata": {},
     "output_type": "display_data"
    }
   ],
   "source": [
    "plt.figure(figsize=(16, 8))\n",
    "plt.grid()\n",
    "plt.title(\"Rozkład kategorii etykiet\")\n",
    "plt.pie([frame[frame[' Label'] == 'BENIGN'].shape[0], frame[frame[' Label'] != 'BENIGN'].shape[0]],\n",
    "       labels=['Ruch Normalny', 'Anomalia'], autopct='%1.1f%%', shadow=True)\n",
    "plt.show()"
   ]
  },
  {
   "cell_type": "code",
   "execution_count": 34,
   "id": "e8deb23b",
   "metadata": {},
   "outputs": [
    {
     "data": {
      "image/png": "[encoded data removed]",
      "text/plain": [
       "<Figure size 1152x576 with 1 Axes>"
      ]
     },
     "metadata": {
      "needs_background": "light"
     },
     "output_type": "display_data"
    }
   ],
   "source": [
    "plt.figure(figsize=(16, 8))\n",
    "plt.grid()\n",
    "plt.title(\"Rozkład kategorii klas\")\n",
    "plt.hist(frame[' Label'].sort_values())\n",
    "plt.show()"
   ]
  },
  {
   "cell_type": "code",
   "execution_count": null,
   "id": "03d43f46",
   "metadata": {},
   "outputs": [],
   "source": []
  },
  {
   "cell_type": "markdown",
   "id": "3d1be20b",
   "metadata": {},
   "source": [
    "## Binary classification"
   ]
  },
  {
   "cell_type": "code",
   "execution_count": 7,
   "id": "850f3b9c",
   "metadata": {},
   "outputs": [],
   "source": [
    "# prepare data for classification\n",
    "chosen_features = list(frame.columns)[1:-1]\n",
    "\n",
    "x_data = frame[chosen_features].fillna(0.0)\n",
    "x_data = x_data.replace((np.inf, -np.inf, np.nan), 0).reset_index(drop=True)\n",
    "\n",
    "x_data = x_data.to_numpy()\n",
    "y_data = np.array([labels_binary[i] for i in frame[' Label']])"
   ]
  },
  {
   "cell_type": "code",
   "execution_count": 8,
   "id": "3e8ec039",
   "metadata": {},
   "outputs": [],
   "source": [
    "# splt data to training and testing set\n",
    "x_train, x_test, y_train, y_test = model_selection.train_test_split(x_data, y_data,\n",
    "                                                                    train_size=0.80,\n",
    "                                                                    test_size=0.20,\n",
    "                                                                    random_state=101)\n",
    "# remove nan values\n",
    "# x_train, x_test = remove_nan_values(x_train), remove_nan_values(x_test)\n",
    "y_train = y_train.astype('int')\n",
    "y_test = y_test.astype('int')\n",
    "\n",
    "# normalization min max\n",
    "scaler = MinMaxScaler()\n",
    "x_train = scaler.fit_transform(x_train)\n",
    "x_test = scaler.fit_transform(x_test)"
   ]
  },
  {
   "cell_type": "code",
   "execution_count": 9,
   "id": "bebb633d",
   "metadata": {},
   "outputs": [
    {
     "data": {
      "text/html": [
       "<style>#sk-container-id-1 {color: black;background-color: white;}#sk-container-id-1 pre{padding: 0;}#sk-container-id-1 div.sk-toggleable {background-color: white;}#sk-container-id-1 label.sk-toggleable__label {cursor: pointer;display: block;width: 100%;margin-bottom: 0;padding: 0.3em;box-sizing: border-box;text-align: center;}#sk-container-id-1 label.sk-toggleable__label-arrow:before {content: \"▸\";float: left;margin-right: 0.25em;color: #696969;}#sk-container-id-1 label.sk-toggleable__label-arrow:hover:before {color: black;}#sk-container-id-1 div.sk-estimator:hover label.sk-toggleable__label-arrow:before {color: black;}#sk-container-id-1 div.sk-toggleable__content {max-height: 0;max-width: 0;overflow: hidden;text-align: left;background-color: #f0f8ff;}#sk-container-id-1 div.sk-toggleable__content pre {margin: 0.2em;color: black;border-radius: 0.25em;background-color: #f0f8ff;}#sk-container-id-1 input.sk-toggleable__control:checked~div.sk-toggleable__content {max-height: 200px;max-width: 100%;overflow: auto;}#sk-container-id-1 input.sk-toggleable__control:checked~label.sk-toggleable__label-arrow:before {content: \"▾\";}#sk-container-id-1 div.sk-estimator input.sk-toggleable__control:checked~label.sk-toggleable__label {background-color: #d4ebff;}#sk-container-id-1 div.sk-label input.sk-toggleable__control:checked~label.sk-toggleable__label {background-color: #d4ebff;}#sk-container-id-1 input.sk-hidden--visually {border: 0;clip: rect(1px 1px 1px 1px);clip: rect(1px, 1px, 1px, 1px);height: 1px;margin: -1px;overflow: hidden;padding: 0;position: absolute;width: 1px;}#sk-container-id-1 div.sk-estimator {font-family: monospace;background-color: #f0f8ff;border: 1px dotted black;border-radius: 0.25em;box-sizing: border-box;margin-bottom: 0.5em;}#sk-container-id-1 div.sk-estimator:hover {background-color: #d4ebff;}#sk-container-id-1 div.sk-parallel-item::after {content: \"\";width: 100%;border-bottom: 1px solid gray;flex-grow: 1;}#sk-container-id-1 div.sk-label:hover label.sk-toggleable__label {background-color: #d4ebff;}#sk-container-id-1 div.sk-serial::before {content: \"\";position: absolute;border-left: 1px solid gray;box-sizing: border-box;top: 0;bottom: 0;left: 50%;z-index: 0;}#sk-container-id-1 div.sk-serial {display: flex;flex-direction: column;align-items: center;background-color: white;padding-right: 0.2em;padding-left: 0.2em;position: relative;}#sk-container-id-1 div.sk-item {position: relative;z-index: 1;}#sk-container-id-1 div.sk-parallel {display: flex;align-items: stretch;justify-content: center;background-color: white;position: relative;}#sk-container-id-1 div.sk-item::before, #sk-container-id-1 div.sk-parallel-item::before {content: \"\";position: absolute;border-left: 1px solid gray;box-sizing: border-box;top: 0;bottom: 0;left: 50%;z-index: -1;}#sk-container-id-1 div.sk-parallel-item {display: flex;flex-direction: column;z-index: 1;position: relative;background-color: white;}#sk-container-id-1 div.sk-parallel-item:first-child::after {align-self: flex-end;width: 50%;}#sk-container-id-1 div.sk-parallel-item:last-child::after {align-self: flex-start;width: 50%;}#sk-container-id-1 div.sk-parallel-item:only-child::after {width: 0;}#sk-container-id-1 div.sk-dashed-wrapped {border: 1px dashed gray;margin: 0 0.4em 0.5em 0.4em;box-sizing: border-box;padding-bottom: 0.4em;background-color: white;}#sk-container-id-1 div.sk-label label {font-family: monospace;font-weight: bold;display: inline-block;line-height: 1.2em;}#sk-container-id-1 div.sk-label-container {text-align: center;}#sk-container-id-1 div.sk-container {/* jupyter's `normalize.less` sets `[hidden] { display: none; }` but bootstrap.min.css set `[hidden] { display: none !important; }` so we also need the `!important` here to be able to override the default hidden behavior on the sphinx rendered scikit-learn.org. See: https://github.com/scikit-learn/scikit-learn/issues/21755 */display: inline-block !important;position: relative;}#sk-container-id-1 div.sk-text-repr-fallback {display: none;}</style><div id=\"sk-container-id-1\" class=\"sk-top-container\"><div class=\"sk-text-repr-fallback\"><pre>GaussianNB()</pre><b>In a Jupyter environment, please rerun this cell to show the HTML representation or trust the notebook. <br />On GitHub, the HTML representation is unable to render, please try loading this page with nbviewer.org.</b></div><div class=\"sk-container\" hidden><div class=\"sk-item\"><div class=\"sk-estimator sk-toggleable\"><input class=\"sk-toggleable__control sk-hidden--visually\" id=\"sk-estimator-id-1\" type=\"checkbox\" checked><label for=\"sk-estimator-id-1\" class=\"sk-toggleable__label sk-toggleable__label-arrow\">GaussianNB</label><div class=\"sk-toggleable__content\"><pre>GaussianNB()</pre></div></div></div></div></div>"
      ],
      "text/plain": [
       "GaussianNB()"
      ]
     },
     "execution_count": 9,
     "metadata": {},
     "output_type": "execute_result"
    }
   ],
   "source": [
    "model = GaussianNB()\n",
    "\n",
    "model.fit(x_train, y_train)"
   ]
  },
  {
   "cell_type": "code",
   "execution_count": 19,
   "id": "8f832910",
   "metadata": {},
   "outputs": [
    {
     "data": {
      "image/png": "[encoded data removed]",
      "text/plain": [
       "<Figure size 360x360 with 1 Axes>"
      ]
     },
     "metadata": {
      "needs_background": "light"
     },
     "output_type": "display_data"
    }
   ],
   "source": [
    "prediction = model.predict(x_test)\n",
    "\n",
    "conf_matrix = confusion_matrix(y_true=y_test, y_pred=prediction)\n",
    "\n",
    "fig, ax = plt.subplots(figsize=(5, 5))\n",
    "ax.matshow(conf_matrix, cmap=plt.cm.Oranges, alpha=0.3)\n",
    "for i in range(conf_matrix.shape[0]):\n",
    "    for j in range(conf_matrix.shape[1]):\n",
    "        ax.text(x=j, y=i,s=conf_matrix[i, j], va='center', ha='center', size='xx-large')\n",
    " \n",
    "plt.xlabel('Predictions', fontsize=18)\n",
    "plt.ylabel('Actuals', fontsize=18)\n",
    "plt.title('Confusion Matrix', fontsize=18)\n",
    "plt.show()"
   ]
  },
  {
   "cell_type": "code",
   "execution_count": 22,
   "id": "b8332887",
   "metadata": {},
   "outputs": [
    {
     "name": "stdout",
     "output_type": "stream",
     "text": [
      "0.817018134801969 0.8508258514119941 0.817018134801969 0.7469297668973225\n"
     ]
    }
   ],
   "source": [
    "accuracy = accuracy_score(y_test, prediction)\n",
    "precision = precision_score(y_test, prediction, average='weighted')\n",
    "recall = recall_score(y_test, prediction, average='weighted')\n",
    "f1_ = f1_score(y_test, prediction, average='weighted')\n",
    "\n",
    "print(accuracy, precision, recall, f1_)"
   ]
  },
  {
   "cell_type": "code",
   "execution_count": null,
   "id": "d6510486",
   "metadata": {},
   "outputs": [],
   "source": []
  },
  {
   "cell_type": "code",
   "execution_count": 10,
   "id": "ee73d5eb",
   "metadata": {},
   "outputs": [],
   "source": [
    "models = [GaussianNB(), \n",
    "          DecisionTreeClassifier(criterion=\"entropy\",\n",
    "                                 class_weight=\"balanced\",\n",
    "                                 random_state=10,\n",
    "                                 max_depth=20,\n",
    "                                 max_leaf_nodes=162,\n",
    "                                 min_samples_leaf=20,\n",
    "                                 min_impurity_decrease=0.00006,\n",
    "                                 min_samples_split=2),\n",
    "          RandomForestClassifier(criterion=\"entropy\",\n",
    "                                 class_weight=\"balanced\",\n",
    "                                 random_state=10,\n",
    "                                 max_depth=20,\n",
    "                                 max_leaf_nodes=162,\n",
    "                                 min_samples_leaf=20,\n",
    "                                 min_impurity_decrease=0.00006,\n",
    "                                 min_samples_split=2,\n",
    "                                 n_estimators=75),\n",
    "          MLPClassifier(hidden_layer_sizes=(15,30,60),\n",
    "                        solver=\"adam\",\n",
    "                        activation=\"relu\",\n",
    "                        learning_rate_init=0.002,\n",
    "                        learning_rate=\"adaptive\",\n",
    "                        max_iter=2000\n",
    "                       ),\n",
    "          AdaBoostClassifier(base_estimator=DecisionTreeClassifier(criterion='gini',\n",
    "                                                                   random_state=10,\n",
    "                                                                   class_weight='balanced',\n",
    "                                                                   max_depth=11,\n",
    "                                                                   max_leaf_nodes=162,\n",
    "                                                                   min_samples_leaf=20,\n",
    "                                                                   min_impurity_decrease=0.00006),\n",
    "                            n_estimators=3300,\n",
    "                            learning_rate=0.3,\n",
    "                            algorithm='SAMME.R'),\n",
    "         GradientBoostingClassifier(loss='deviance',\n",
    "                                   n_estimators=3200,\n",
    "                                   learning_rate=0.05)]\n",
    "\n",
    "\n",
    "models_mlp = [MLPClassifier(hidden_layer_sizes=(50,),\n",
    "                solver=\"adam\",\n",
    "                activation=\"relu\",\n",
    "                learning_rate_init=0.002,\n",
    "                learning_rate=\"adaptive\",\n",
    "                max_iter=2000\n",
    "               ),\n",
    "             MLPClassifier(hidden_layer_sizes=(50,50),\n",
    "                solver=\"adam\",\n",
    "                activation=\"relu\",\n",
    "                learning_rate_init=0.002,\n",
    "                learning_rate=\"adaptive\",\n",
    "                max_iter=2000\n",
    "               ),\n",
    "            MLPClassifier(hidden_layer_sizes=(50,50,50),\n",
    "                solver=\"adam\",\n",
    "                activation=\"relu\",\n",
    "                learning_rate_init=0.002,\n",
    "                learning_rate=\"adaptive\",\n",
    "                max_iter=2000\n",
    "               ),\n",
    "            MLPClassifier(hidden_layer_sizes=(50,30,10),\n",
    "                solver=\"adam\",\n",
    "                activation=\"relu\",\n",
    "                learning_rate_init=0.002,\n",
    "                learning_rate=\"adaptive\",\n",
    "                max_iter=2000\n",
    "               ),\n",
    "             MLPClassifier(hidden_layer_sizes=(100,100),\n",
    "                solver=\"adam\",\n",
    "                activation=\"relu\",\n",
    "                learning_rate_init=0.002,\n",
    "                learning_rate=\"adaptive\",\n",
    "                max_iter=2000\n",
    "               ),\n",
    "            MLPClassifier(hidden_layer_sizes=(100,100,100),\n",
    "                solver=\"adam\",\n",
    "                activation=\"relu\",\n",
    "                learning_rate_init=0.002,\n",
    "                learning_rate=\"adaptive\",\n",
    "                max_iter=2000\n",
    "               ),\n",
    "            MLPClassifier(hidden_layer_sizes=(100,50,20),\n",
    "                solver=\"adam\",\n",
    "                activation=\"relu\",\n",
    "                learning_rate_init=0.002,\n",
    "                learning_rate=\"adaptive\",\n",
    "                max_iter=2000\n",
    "               ),\n",
    "             MLPClassifier(hidden_layer_sizes=(200,100, 50, 25),\n",
    "                solver=\"adam\",\n",
    "                activation=\"relu\",\n",
    "                learning_rate_init=0.002,\n",
    "                learning_rate=\"adaptive\",\n",
    "                max_iter=2000\n",
    "               ),\n",
    "            MLPClassifier(hidden_layer_sizes=(200,200,200),\n",
    "                solver=\"adam\",\n",
    "                activation=\"relu\",\n",
    "                learning_rate_init=0.002,\n",
    "                learning_rate=\"adaptive\",\n",
    "                max_iter=2000\n",
    "               ),\n",
    "            MLPClassifier(hidden_layer_sizes=(300,150,75),\n",
    "                solver=\"adam\",\n",
    "                activation=\"relu\",\n",
    "                learning_rate_init=0.002,\n",
    "                learning_rate=\"adaptive\",\n",
    "                max_iter=2000\n",
    "               )\n",
    "             ]\n",
    "\n",
    "models_mlp_downsampling = [MLPClassifier(hidden_layer_sizes=(25,),\n",
    "                solver=\"adam\",\n",
    "                activation=\"relu\",\n",
    "                learning_rate_init=0.002,\n",
    "                learning_rate=\"adaptive\",\n",
    "                max_iter=2000\n",
    "               ),\n",
    "             MLPClassifier(hidden_layer_sizes=(25,25),\n",
    "                solver=\"adam\",\n",
    "                activation=\"relu\",\n",
    "                learning_rate_init=0.002,\n",
    "                learning_rate=\"adaptive\",\n",
    "                max_iter=2000\n",
    "               ),\n",
    "            MLPClassifier(hidden_layer_sizes=(25,25,25),\n",
    "                solver=\"adam\",\n",
    "                activation=\"relu\",\n",
    "                learning_rate_init=0.002,\n",
    "                learning_rate=\"adaptive\",\n",
    "                max_iter=2000\n",
    "               ),\n",
    "            MLPClassifier(hidden_layer_sizes=(25,15,10),\n",
    "                solver=\"adam\",\n",
    "                activation=\"relu\",\n",
    "                learning_rate_init=0.002,\n",
    "                learning_rate=\"adaptive\",\n",
    "                max_iter=2000\n",
    "               ),\n",
    "             MLPClassifier(hidden_layer_sizes=(15,),\n",
    "                solver=\"adam\",\n",
    "                activation=\"relu\",\n",
    "                learning_rate_init=0.002,\n",
    "                learning_rate=\"adaptive\",\n",
    "                max_iter=2000\n",
    "               ),\n",
    "            MLPClassifier(hidden_layer_sizes=(15,15),\n",
    "                solver=\"adam\",\n",
    "                activation=\"relu\",\n",
    "                learning_rate_init=0.002,\n",
    "                learning_rate=\"adaptive\",\n",
    "                max_iter=2000\n",
    "               ),\n",
    "            MLPClassifier(hidden_layer_sizes=(15,15,15),\n",
    "                solver=\"adam\",\n",
    "                activation=\"relu\",\n",
    "                learning_rate_init=0.002,\n",
    "                learning_rate=\"adaptive\",\n",
    "                max_iter=2000\n",
    "               ),\n",
    "             MLPClassifier(hidden_layer_sizes=(30, 15, 5),\n",
    "                solver=\"adam\",\n",
    "                activation=\"relu\",\n",
    "                learning_rate_init=0.002,\n",
    "                learning_rate=\"adaptive\",\n",
    "                max_iter=2000\n",
    "               ),\n",
    "            MLPClassifier(hidden_layer_sizes=(5,5,5),\n",
    "                solver=\"adam\",\n",
    "                activation=\"relu\",\n",
    "                learning_rate_init=0.002,\n",
    "                learning_rate=\"adaptive\",\n",
    "                max_iter=2000\n",
    "               )\n",
    "             ]\n"
   ]
  },
  {
   "cell_type": "code",
   "execution_count": 10,
   "id": "43b65342",
   "metadata": {},
   "outputs": [],
   "source": [
    "models_mlp2 = [models_mlp[-2], models_mlp[-1]]"
   ]
  },
  {
   "cell_type": "code",
   "execution_count": 10,
   "id": "dbc17510",
   "metadata": {},
   "outputs": [
    {
     "name": "stdout",
     "output_type": "stream",
     "text": [
      "GaussianNB()\n",
      "DecisionTreeClassifier(class_weight='balanced', criterion='entropy',\n",
      "                       max_depth=20, max_leaf_nodes=162,\n",
      "                       min_impurity_decrease=6e-05, min_samples_leaf=20,\n",
      "                       random_state=10)\n",
      "RandomForestClassifier(class_weight='balanced', criterion='entropy',\n",
      "                       max_depth=20, max_leaf_nodes=162,\n",
      "                       min_impurity_decrease=6e-05, min_samples_leaf=20,\n",
      "                       n_estimators=75, random_state=10)\n",
      "MLPClassifier(hidden_layer_sizes=(15, 30, 60), learning_rate='adaptive',\n",
      "              learning_rate_init=0.002, max_iter=2000)\n",
      "AdaBoostClassifier(base_estimator=DecisionTreeClassifier(class_weight='balanced',\n",
      "                                                         max_depth=11,\n",
      "                                                         max_leaf_nodes=162,\n",
      "                                                         min_impurity_decrease=6e-05,\n",
      "                                                         min_samples_leaf=20,\n",
      "                                                         random_state=10),\n",
      "                   learning_rate=0.3, n_estimators=3300)\n",
      "GradientBoostingClassifier(learning_rate=0.05, n_estimators=3200)\n"
     ]
    }
   ],
   "source": [
    "# train models\n",
    "for model in models:\n",
    "    model.fit(x_train, y_train)\n",
    "    print(model)"
   ]
  },
  {
   "cell_type": "code",
   "execution_count": 12,
   "id": "5a2058c1",
   "metadata": {},
   "outputs": [],
   "source": [
    "predictions = {i: None for i in models}\n",
    "for model, model_str in zip(models, predictions):\n",
    "    predictions[model_str] = model.predict(x_test)"
   ]
  },
  {
   "cell_type": "code",
   "execution_count": 13,
   "id": "b608dc77",
   "metadata": {},
   "outputs": [
    {
     "data": {
      "text/html": [
       "<div>\n",
       "<style scoped>\n",
       "    .dataframe tbody tr th:only-of-type {\n",
       "        vertical-align: middle;\n",
       "    }\n",
       "\n",
       "    .dataframe tbody tr th {\n",
       "        vertical-align: top;\n",
       "    }\n",
       "\n",
       "    .dataframe thead th {\n",
       "        text-align: right;\n",
       "    }\n",
       "</style>\n",
       "<table border=\"1\" class=\"dataframe\">\n",
       "  <thead>\n",
       "    <tr style=\"text-align: right;\">\n",
       "      <th></th>\n",
       "      <th>Model</th>\n",
       "      <th>Accuracy [%]</th>\n",
       "      <th>Precision [%]</th>\n",
       "      <th>Recall [%]</th>\n",
       "      <th>F1_score [%]</th>\n",
       "    </tr>\n",
       "  </thead>\n",
       "  <tbody>\n",
       "    <tr>\n",
       "      <th>0</th>\n",
       "      <td>GaussianNB()</td>\n",
       "      <td>81.7</td>\n",
       "      <td>85.1</td>\n",
       "      <td>81.7</td>\n",
       "      <td>74.7</td>\n",
       "    </tr>\n",
       "    <tr>\n",
       "      <th>1</th>\n",
       "      <td>DecisionTreeClassifier(class_weight='balanced'...</td>\n",
       "      <td>99.6</td>\n",
       "      <td>99.6</td>\n",
       "      <td>99.6</td>\n",
       "      <td>99.6</td>\n",
       "    </tr>\n",
       "    <tr>\n",
       "      <th>2</th>\n",
       "      <td>(DecisionTreeClassifier(criterion='entropy', m...</td>\n",
       "      <td>99.1</td>\n",
       "      <td>99.1</td>\n",
       "      <td>99.1</td>\n",
       "      <td>99.1</td>\n",
       "    </tr>\n",
       "    <tr>\n",
       "      <th>3</th>\n",
       "      <td>MLPClassifier(hidden_layer_sizes=(15, 30, 60),...</td>\n",
       "      <td>95.7</td>\n",
       "      <td>95.6</td>\n",
       "      <td>95.7</td>\n",
       "      <td>95.6</td>\n",
       "    </tr>\n",
       "    <tr>\n",
       "      <th>4</th>\n",
       "      <td>(DecisionTreeClassifier(class_weight='balanced...</td>\n",
       "      <td>96.0</td>\n",
       "      <td>96.0</td>\n",
       "      <td>96.0</td>\n",
       "      <td>95.9</td>\n",
       "    </tr>\n",
       "    <tr>\n",
       "      <th>5</th>\n",
       "      <td>([DecisionTreeRegressor(criterion='friedman_ms...</td>\n",
       "      <td>98.3</td>\n",
       "      <td>98.3</td>\n",
       "      <td>98.3</td>\n",
       "      <td>98.3</td>\n",
       "    </tr>\n",
       "  </tbody>\n",
       "</table>\n",
       "</div>"
      ],
      "text/plain": [
       "                                               Model  Accuracy [%]  \\\n",
       "0                                       GaussianNB()          81.7   \n",
       "1  DecisionTreeClassifier(class_weight='balanced'...          99.6   \n",
       "2  (DecisionTreeClassifier(criterion='entropy', m...          99.1   \n",
       "3  MLPClassifier(hidden_layer_sizes=(15, 30, 60),...          95.7   \n",
       "4  (DecisionTreeClassifier(class_weight='balanced...          96.0   \n",
       "5  ([DecisionTreeRegressor(criterion='friedman_ms...          98.3   \n",
       "\n",
       "   Precision [%]  Recall [%]  F1_score [%]  \n",
       "0           85.1        81.7          74.7  \n",
       "1           99.6        99.6          99.6  \n",
       "2           99.1        99.1          99.1  \n",
       "3           95.6        95.7          95.6  \n",
       "4           96.0        96.0          95.9  \n",
       "5           98.3        98.3          98.3  "
      ]
     },
     "execution_count": 13,
     "metadata": {},
     "output_type": "execute_result"
    }
   ],
   "source": [
    "# accuracy\n",
    "accuracy_list, precision_list, recall_list, f1_list, fpr_list = [], [], [], [], []\n",
    "for model, model_str in zip(models, predictions):\n",
    "    accuracy = accuracy_score(y_test, predictions[model_str])\n",
    "    precision = precision_score(y_test, predictions[model_str], average='weighted')\n",
    "    recall = recall_score(y_test, predictions[model_str], average='weighted')\n",
    "    f1_ = f1_score(y_test, predictions[model_str], average='weighted')\n",
    "    \n",
    "    accuracy_list.append(round(accuracy, 3) * 100)\n",
    "    precision_list.append(round(precision,3) * 100)\n",
    "    recall_list.append(round(recall,3) * 100)\n",
    "    f1_list.append(round(f1_,3) * 100)\n",
    "\n",
    "results = {'Model': models,\n",
    "           'Accuracy [%]': accuracy_list,\n",
    "           'Precision [%]': precision_list,\n",
    "           'Recall [%]': recall_list,\n",
    "           'F1_score [%]': f1_list,\n",
    "          }\n",
    " \n",
    "# Convert the dictionary into DataFrame \n",
    "result_metrics = pd.DataFrame(results)\n",
    "result_metrics"
   ]
  },
  {
   "cell_type": "code",
   "execution_count": 11,
   "id": "86c823e7",
   "metadata": {},
   "outputs": [
    {
     "name": "stdout",
     "output_type": "stream",
     "text": [
      "MLPClassifier(hidden_layer_sizes=(50,), learning_rate='adaptive',\n",
      "              learning_rate_init=0.002, max_iter=2000)\n",
      "MLPClassifier(hidden_layer_sizes=(50, 50), learning_rate='adaptive',\n",
      "              learning_rate_init=0.002, max_iter=2000)\n",
      "MLPClassifier(hidden_layer_sizes=(50, 50, 50), learning_rate='adaptive',\n",
      "              learning_rate_init=0.002, max_iter=2000)\n",
      "MLPClassifier(hidden_layer_sizes=(50, 30, 10), learning_rate='adaptive',\n",
      "              learning_rate_init=0.002, max_iter=2000)\n",
      "MLPClassifier(hidden_layer_sizes=(100, 100), learning_rate='adaptive',\n",
      "              learning_rate_init=0.002, max_iter=2000)\n",
      "MLPClassifier(hidden_layer_sizes=(100, 100, 100), learning_rate='adaptive',\n",
      "              learning_rate_init=0.002, max_iter=2000)\n",
      "MLPClassifier(hidden_layer_sizes=(100, 50, 20), learning_rate='adaptive',\n",
      "              learning_rate_init=0.002, max_iter=2000)\n"
     ]
    },
    {
     "name": "stderr",
     "output_type": "stream",
     "text": [
      "/home/mkubita/anaconda3/lib/python3.9/site-packages/sklearn/neural_network/_multilayer_perceptron.py:619: UserWarning: Training interrupted by user.\n",
      "  warnings.warn(\"Training interrupted by user.\")\n"
     ]
    },
    {
     "name": "stdout",
     "output_type": "stream",
     "text": [
      "MLPClassifier(hidden_layer_sizes=(200, 100, 50, 25), learning_rate='adaptive',\n",
      "              learning_rate_init=0.002, max_iter=2000)\n"
     ]
    },
    {
     "name": "stderr",
     "output_type": "stream",
     "text": [
      "/home/mkubita/anaconda3/lib/python3.9/site-packages/sklearn/neural_network/_multilayer_perceptron.py:619: UserWarning: Training interrupted by user.\n",
      "  warnings.warn(\"Training interrupted by user.\")\n"
     ]
    },
    {
     "name": "stdout",
     "output_type": "stream",
     "text": [
      "MLPClassifier(hidden_layer_sizes=(200, 200, 200), learning_rate='adaptive',\n",
      "              learning_rate_init=0.002, max_iter=2000)\n",
      "MLPClassifier(hidden_layer_sizes=(300, 150, 75), learning_rate='adaptive',\n",
      "              learning_rate_init=0.002, max_iter=2000)\n"
     ]
    },
    {
     "name": "stderr",
     "output_type": "stream",
     "text": [
      "/home/mkubita/anaconda3/lib/python3.9/site-packages/sklearn/neural_network/_multilayer_perceptron.py:619: UserWarning: Training interrupted by user.\n",
      "  warnings.warn(\"Training interrupted by user.\")\n"
     ]
    }
   ],
   "source": [
    "for model in models_mlp:\n",
    "    model.fit(x_train, y_train)\n",
    "    print(model)"
   ]
  },
  {
   "cell_type": "code",
   "execution_count": 11,
   "id": "b0ce09a5",
   "metadata": {},
   "outputs": [],
   "source": [
    "for model in models_mlp2:\n",
    "    model.fit(x_train, y_train)"
   ]
  },
  {
   "cell_type": "code",
   "execution_count": 13,
   "id": "24d7f9ba",
   "metadata": {},
   "outputs": [],
   "source": [
    "predictions = {i: None for i in models_mlp2}\n",
    "for model, model_str in zip(models_mlp2, predictions):\n",
    "    predictions[model_str] = model.predict(x_test)"
   ]
  },
  {
   "cell_type": "code",
   "execution_count": 14,
   "id": "1a0d3466",
   "metadata": {},
   "outputs": [
    {
     "data": {
      "text/html": [
       "<div>\n",
       "<style scoped>\n",
       "    .dataframe tbody tr th:only-of-type {\n",
       "        vertical-align: middle;\n",
       "    }\n",
       "\n",
       "    .dataframe tbody tr th {\n",
       "        vertical-align: top;\n",
       "    }\n",
       "\n",
       "    .dataframe thead th {\n",
       "        text-align: right;\n",
       "    }\n",
       "</style>\n",
       "<table border=\"1\" class=\"dataframe\">\n",
       "  <thead>\n",
       "    <tr style=\"text-align: right;\">\n",
       "      <th></th>\n",
       "      <th>Model</th>\n",
       "      <th>Accuracy [%]</th>\n",
       "      <th>Precision [%]</th>\n",
       "      <th>Recall [%]</th>\n",
       "      <th>F1_score [%]</th>\n",
       "    </tr>\n",
       "  </thead>\n",
       "  <tbody>\n",
       "    <tr>\n",
       "      <th>0</th>\n",
       "      <td>MLPClassifier(hidden_layer_sizes=(200, 200, 20...</td>\n",
       "      <td>96.2</td>\n",
       "      <td>96.2</td>\n",
       "      <td>96.2</td>\n",
       "      <td>96.1</td>\n",
       "    </tr>\n",
       "    <tr>\n",
       "      <th>1</th>\n",
       "      <td>MLPClassifier(hidden_layer_sizes=(300, 150, 75...</td>\n",
       "      <td>96.8</td>\n",
       "      <td>96.8</td>\n",
       "      <td>96.8</td>\n",
       "      <td>96.8</td>\n",
       "    </tr>\n",
       "  </tbody>\n",
       "</table>\n",
       "</div>"
      ],
      "text/plain": [
       "                                               Model  Accuracy [%]  \\\n",
       "0  MLPClassifier(hidden_layer_sizes=(200, 200, 20...          96.2   \n",
       "1  MLPClassifier(hidden_layer_sizes=(300, 150, 75...          96.8   \n",
       "\n",
       "   Precision [%]  Recall [%]  F1_score [%]  \n",
       "0           96.2        96.2          96.1  \n",
       "1           96.8        96.8          96.8  "
      ]
     },
     "execution_count": 14,
     "metadata": {},
     "output_type": "execute_result"
    }
   ],
   "source": [
    "# accuracy\n",
    "accuracy_list, precision_list, recall_list, f1_list, fpr_list = [], [], [], [], []\n",
    "for model, model_str in zip(models_mlp2, predictions):\n",
    "    accuracy = accuracy_score(y_test, predictions[model_str])\n",
    "    precision = precision_score(y_test, predictions[model_str], average='weighted')\n",
    "    recall = recall_score(y_test, predictions[model_str], average='weighted')\n",
    "    f1_ = f1_score(y_test, predictions[model_str], average='weighted')\n",
    "    \n",
    "    accuracy_list.append(round(accuracy, 3) * 100)\n",
    "    precision_list.append(round(precision,3) * 100)\n",
    "    recall_list.append(round(recall,3) * 100)\n",
    "    f1_list.append(round(f1_,3) * 100)\n",
    "\n",
    "results = {'Model': models_mlp2,\n",
    "           'Accuracy [%]': accuracy_list,\n",
    "           'Precision [%]': precision_list,\n",
    "           'Recall [%]': recall_list,\n",
    "           'F1_score [%]': f1_list,\n",
    "          }\n",
    " \n",
    "# Convert the dictionary into DataFrame \n",
    "result_metrics = pd.DataFrame(results)\n",
    "result_metrics"
   ]
  },
  {
   "cell_type": "code",
   "execution_count": 13,
   "id": "4efef56b",
   "metadata": {},
   "outputs": [],
   "source": [
    "predictions = {i: None for i in models_mlp[:-2]}\n",
    "for model, model_str in zip(models_mlp[:-2], predictions):\n",
    "    predictions[model_str] = model.predict(x_test)"
   ]
  },
  {
   "cell_type": "code",
   "execution_count": 14,
   "id": "59de3dab",
   "metadata": {},
   "outputs": [
    {
     "data": {
      "text/html": [
       "<div>\n",
       "<style scoped>\n",
       "    .dataframe tbody tr th:only-of-type {\n",
       "        vertical-align: middle;\n",
       "    }\n",
       "\n",
       "    .dataframe tbody tr th {\n",
       "        vertical-align: top;\n",
       "    }\n",
       "\n",
       "    .dataframe thead th {\n",
       "        text-align: right;\n",
       "    }\n",
       "</style>\n",
       "<table border=\"1\" class=\"dataframe\">\n",
       "  <thead>\n",
       "    <tr style=\"text-align: right;\">\n",
       "      <th></th>\n",
       "      <th>Model</th>\n",
       "      <th>Accuracy [%]</th>\n",
       "      <th>Precision [%]</th>\n",
       "      <th>Recall [%]</th>\n",
       "      <th>F1_score [%]</th>\n",
       "    </tr>\n",
       "  </thead>\n",
       "  <tbody>\n",
       "    <tr>\n",
       "      <th>0</th>\n",
       "      <td>MLPClassifier(hidden_layer_sizes=(50,), learni...</td>\n",
       "      <td>90.8</td>\n",
       "      <td>93.6</td>\n",
       "      <td>90.8</td>\n",
       "      <td>91.4</td>\n",
       "    </tr>\n",
       "    <tr>\n",
       "      <th>1</th>\n",
       "      <td>MLPClassifier(hidden_layer_sizes=(50, 50), lea...</td>\n",
       "      <td>95.0</td>\n",
       "      <td>94.9</td>\n",
       "      <td>95.0</td>\n",
       "      <td>94.9</td>\n",
       "    </tr>\n",
       "    <tr>\n",
       "      <th>2</th>\n",
       "      <td>MLPClassifier(hidden_layer_sizes=(50, 50, 50),...</td>\n",
       "      <td>94.1</td>\n",
       "      <td>94.0</td>\n",
       "      <td>94.1</td>\n",
       "      <td>93.9</td>\n",
       "    </tr>\n",
       "    <tr>\n",
       "      <th>3</th>\n",
       "      <td>MLPClassifier(hidden_layer_sizes=(50, 30, 10),...</td>\n",
       "      <td>95.6</td>\n",
       "      <td>95.6</td>\n",
       "      <td>95.6</td>\n",
       "      <td>95.4</td>\n",
       "    </tr>\n",
       "    <tr>\n",
       "      <th>4</th>\n",
       "      <td>MLPClassifier(hidden_layer_sizes=(100, 100), l...</td>\n",
       "      <td>95.3</td>\n",
       "      <td>95.3</td>\n",
       "      <td>95.3</td>\n",
       "      <td>95.3</td>\n",
       "    </tr>\n",
       "    <tr>\n",
       "      <th>5</th>\n",
       "      <td>MLPClassifier(hidden_layer_sizes=(100, 100, 10...</td>\n",
       "      <td>93.8</td>\n",
       "      <td>93.9</td>\n",
       "      <td>93.8</td>\n",
       "      <td>93.4</td>\n",
       "    </tr>\n",
       "    <tr>\n",
       "      <th>6</th>\n",
       "      <td>MLPClassifier(hidden_layer_sizes=(100, 50, 20)...</td>\n",
       "      <td>95.5</td>\n",
       "      <td>95.5</td>\n",
       "      <td>95.5</td>\n",
       "      <td>95.3</td>\n",
       "    </tr>\n",
       "    <tr>\n",
       "      <th>7</th>\n",
       "      <td>MLPClassifier(hidden_layer_sizes=(200, 100, 50...</td>\n",
       "      <td>98.1</td>\n",
       "      <td>98.1</td>\n",
       "      <td>98.1</td>\n",
       "      <td>98.1</td>\n",
       "    </tr>\n",
       "  </tbody>\n",
       "</table>\n",
       "</div>"
      ],
      "text/plain": [
       "                                               Model  Accuracy [%]  \\\n",
       "0  MLPClassifier(hidden_layer_sizes=(50,), learni...          90.8   \n",
       "1  MLPClassifier(hidden_layer_sizes=(50, 50), lea...          95.0   \n",
       "2  MLPClassifier(hidden_layer_sizes=(50, 50, 50),...          94.1   \n",
       "3  MLPClassifier(hidden_layer_sizes=(50, 30, 10),...          95.6   \n",
       "4  MLPClassifier(hidden_layer_sizes=(100, 100), l...          95.3   \n",
       "5  MLPClassifier(hidden_layer_sizes=(100, 100, 10...          93.8   \n",
       "6  MLPClassifier(hidden_layer_sizes=(100, 50, 20)...          95.5   \n",
       "7  MLPClassifier(hidden_layer_sizes=(200, 100, 50...          98.1   \n",
       "\n",
       "   Precision [%]  Recall [%]  F1_score [%]  \n",
       "0           93.6        90.8          91.4  \n",
       "1           94.9        95.0          94.9  \n",
       "2           94.0        94.1          93.9  \n",
       "3           95.6        95.6          95.4  \n",
       "4           95.3        95.3          95.3  \n",
       "5           93.9        93.8          93.4  \n",
       "6           95.5        95.5          95.3  \n",
       "7           98.1        98.1          98.1  "
      ]
     },
     "execution_count": 14,
     "metadata": {},
     "output_type": "execute_result"
    }
   ],
   "source": [
    "# accuracy\n",
    "accuracy_list, precision_list, recall_list, f1_list, fpr_list = [], [], [], [], []\n",
    "for model, model_str in zip(models_mlp[:-2], predictions):\n",
    "    accuracy = accuracy_score(y_test, predictions[model_str])\n",
    "    precision = precision_score(y_test, predictions[model_str], average='weighted')\n",
    "    recall = recall_score(y_test, predictions[model_str], average='weighted')\n",
    "    f1_ = f1_score(y_test, predictions[model_str], average='weighted')\n",
    "    \n",
    "    accuracy_list.append(round(accuracy, 3) * 100)\n",
    "    precision_list.append(round(precision,3) * 100)\n",
    "    recall_list.append(round(recall,3) * 100)\n",
    "    f1_list.append(round(f1_,3) * 100)\n",
    "\n",
    "results = {'Model': models_mlp[:-2],\n",
    "           'Accuracy [%]': accuracy_list,\n",
    "           'Precision [%]': precision_list,\n",
    "           'Recall [%]': recall_list,\n",
    "           'F1_score [%]': f1_list,\n",
    "          }\n",
    " \n",
    "# Convert the dictionary into DataFrame \n",
    "result_metrics = pd.DataFrame(results)\n",
    "result_metrics"
   ]
  },
  {
   "cell_type": "code",
   "execution_count": 11,
   "id": "5a4171a1",
   "metadata": {},
   "outputs": [
    {
     "name": "stdout",
     "output_type": "stream",
     "text": [
      "MLPClassifier(hidden_layer_sizes=(25,), learning_rate='adaptive',\n",
      "              learning_rate_init=0.002, max_iter=2000)\n",
      "MLPClassifier(hidden_layer_sizes=(25, 25), learning_rate='adaptive',\n",
      "              learning_rate_init=0.002, max_iter=2000)\n",
      "MLPClassifier(hidden_layer_sizes=(25, 25, 25), learning_rate='adaptive',\n",
      "              learning_rate_init=0.002, max_iter=2000)\n",
      "MLPClassifier(hidden_layer_sizes=(25, 15, 10), learning_rate='adaptive',\n",
      "              learning_rate_init=0.002, max_iter=2000)\n",
      "MLPClassifier(hidden_layer_sizes=(15,), learning_rate='adaptive',\n",
      "              learning_rate_init=0.002, max_iter=2000)\n",
      "MLPClassifier(hidden_layer_sizes=(15, 15), learning_rate='adaptive',\n",
      "              learning_rate_init=0.002, max_iter=2000)\n",
      "MLPClassifier(hidden_layer_sizes=(15, 15, 15), learning_rate='adaptive',\n",
      "              learning_rate_init=0.002, max_iter=2000)\n",
      "MLPClassifier(hidden_layer_sizes=(30, 15, 5), learning_rate='adaptive',\n",
      "              learning_rate_init=0.002, max_iter=2000)\n",
      "MLPClassifier(hidden_layer_sizes=(5, 5, 5), learning_rate='adaptive',\n",
      "              learning_rate_init=0.002, max_iter=2000)\n"
     ]
    }
   ],
   "source": [
    "for model in models_mlp_downsampling:\n",
    "    model.fit(x_train, y_train)\n",
    "    print(model)"
   ]
  },
  {
   "cell_type": "code",
   "execution_count": 12,
   "id": "1d303bfa",
   "metadata": {},
   "outputs": [],
   "source": [
    "predictions = {i: None for i in models_mlp_downsampling}\n",
    "for model, model_str in zip(models_mlp_downsampling, predictions):\n",
    "    predictions[model_str] = model.predict(x_test)"
   ]
  },
  {
   "cell_type": "code",
   "execution_count": 13,
   "id": "d1aa32c7",
   "metadata": {},
   "outputs": [
    {
     "data": {
      "text/html": [
       "<div>\n",
       "<style scoped>\n",
       "    .dataframe tbody tr th:only-of-type {\n",
       "        vertical-align: middle;\n",
       "    }\n",
       "\n",
       "    .dataframe tbody tr th {\n",
       "        vertical-align: top;\n",
       "    }\n",
       "\n",
       "    .dataframe thead th {\n",
       "        text-align: right;\n",
       "    }\n",
       "</style>\n",
       "<table border=\"1\" class=\"dataframe\">\n",
       "  <thead>\n",
       "    <tr style=\"text-align: right;\">\n",
       "      <th></th>\n",
       "      <th>Model</th>\n",
       "      <th>Accuracy [%]</th>\n",
       "      <th>Precision [%]</th>\n",
       "      <th>Recall [%]</th>\n",
       "      <th>F1_score [%]</th>\n",
       "    </tr>\n",
       "  </thead>\n",
       "  <tbody>\n",
       "    <tr>\n",
       "      <th>0</th>\n",
       "      <td>MLPClassifier(hidden_layer_sizes=(25,), learni...</td>\n",
       "      <td>89.3</td>\n",
       "      <td>92.9</td>\n",
       "      <td>89.3</td>\n",
       "      <td>90.1</td>\n",
       "    </tr>\n",
       "    <tr>\n",
       "      <th>1</th>\n",
       "      <td>MLPClassifier(hidden_layer_sizes=(25, 25), lea...</td>\n",
       "      <td>92.9</td>\n",
       "      <td>92.7</td>\n",
       "      <td>92.9</td>\n",
       "      <td>92.7</td>\n",
       "    </tr>\n",
       "    <tr>\n",
       "      <th>2</th>\n",
       "      <td>MLPClassifier(hidden_layer_sizes=(25, 25, 25),...</td>\n",
       "      <td>92.9</td>\n",
       "      <td>92.8</td>\n",
       "      <td>92.9</td>\n",
       "      <td>92.8</td>\n",
       "    </tr>\n",
       "    <tr>\n",
       "      <th>3</th>\n",
       "      <td>MLPClassifier(hidden_layer_sizes=(25, 15, 10),...</td>\n",
       "      <td>94.0</td>\n",
       "      <td>93.9</td>\n",
       "      <td>94.0</td>\n",
       "      <td>93.9</td>\n",
       "    </tr>\n",
       "    <tr>\n",
       "      <th>4</th>\n",
       "      <td>MLPClassifier(hidden_layer_sizes=(15,), learni...</td>\n",
       "      <td>80.9</td>\n",
       "      <td>90.2</td>\n",
       "      <td>80.9</td>\n",
       "      <td>82.7</td>\n",
       "    </tr>\n",
       "    <tr>\n",
       "      <th>5</th>\n",
       "      <td>MLPClassifier(hidden_layer_sizes=(15, 15), lea...</td>\n",
       "      <td>94.0</td>\n",
       "      <td>95.0</td>\n",
       "      <td>94.0</td>\n",
       "      <td>94.2</td>\n",
       "    </tr>\n",
       "    <tr>\n",
       "      <th>6</th>\n",
       "      <td>MLPClassifier(hidden_layer_sizes=(15, 15, 15),...</td>\n",
       "      <td>94.1</td>\n",
       "      <td>94.1</td>\n",
       "      <td>94.1</td>\n",
       "      <td>94.1</td>\n",
       "    </tr>\n",
       "    <tr>\n",
       "      <th>7</th>\n",
       "      <td>MLPClassifier(hidden_layer_sizes=(30, 15, 5), ...</td>\n",
       "      <td>95.0</td>\n",
       "      <td>94.9</td>\n",
       "      <td>95.0</td>\n",
       "      <td>94.9</td>\n",
       "    </tr>\n",
       "    <tr>\n",
       "      <th>8</th>\n",
       "      <td>MLPClassifier(hidden_layer_sizes=(5, 5, 5), le...</td>\n",
       "      <td>88.0</td>\n",
       "      <td>91.1</td>\n",
       "      <td>88.0</td>\n",
       "      <td>88.8</td>\n",
       "    </tr>\n",
       "  </tbody>\n",
       "</table>\n",
       "</div>"
      ],
      "text/plain": [
       "                                               Model  Accuracy [%]  \\\n",
       "0  MLPClassifier(hidden_layer_sizes=(25,), learni...          89.3   \n",
       "1  MLPClassifier(hidden_layer_sizes=(25, 25), lea...          92.9   \n",
       "2  MLPClassifier(hidden_layer_sizes=(25, 25, 25),...          92.9   \n",
       "3  MLPClassifier(hidden_layer_sizes=(25, 15, 10),...          94.0   \n",
       "4  MLPClassifier(hidden_layer_sizes=(15,), learni...          80.9   \n",
       "5  MLPClassifier(hidden_layer_sizes=(15, 15), lea...          94.0   \n",
       "6  MLPClassifier(hidden_layer_sizes=(15, 15, 15),...          94.1   \n",
       "7  MLPClassifier(hidden_layer_sizes=(30, 15, 5), ...          95.0   \n",
       "8  MLPClassifier(hidden_layer_sizes=(5, 5, 5), le...          88.0   \n",
       "\n",
       "   Precision [%]  Recall [%]  F1_score [%]  \n",
       "0           92.9        89.3          90.1  \n",
       "1           92.7        92.9          92.7  \n",
       "2           92.8        92.9          92.8  \n",
       "3           93.9        94.0          93.9  \n",
       "4           90.2        80.9          82.7  \n",
       "5           95.0        94.0          94.2  \n",
       "6           94.1        94.1          94.1  \n",
       "7           94.9        95.0          94.9  \n",
       "8           91.1        88.0          88.8  "
      ]
     },
     "execution_count": 13,
     "metadata": {},
     "output_type": "execute_result"
    }
   ],
   "source": [
    "# accuracy\n",
    "accuracy_list, precision_list, recall_list, f1_list, fpr_list = [], [], [], [], []\n",
    "for model, model_str in zip(models_mlp_downsampling, predictions):\n",
    "    accuracy = accuracy_score(y_test, predictions[model_str])\n",
    "    precision = precision_score(y_test, predictions[model_str], average='weighted')\n",
    "    recall = recall_score(y_test, predictions[model_str], average='weighted')\n",
    "    f1_ = f1_score(y_test, predictions[model_str], average='weighted')\n",
    "    \n",
    "    accuracy_list.append(round(accuracy, 3) * 100)\n",
    "    precision_list.append(round(precision,3) * 100)\n",
    "    recall_list.append(round(recall,3) * 100)\n",
    "    f1_list.append(round(f1_,3) * 100)\n",
    "\n",
    "results = {'Model': models_mlp_downsampling,\n",
    "           'Accuracy [%]': accuracy_list,\n",
    "           'Precision [%]': precision_list,\n",
    "           'Recall [%]': recall_list,\n",
    "           'F1_score [%]': f1_list,\n",
    "          }\n",
    " \n",
    "# Convert the dictionary into DataFrame \n",
    "result_metrics = pd.DataFrame(results)\n",
    "result_metrics"
   ]
  },
  {
   "cell_type": "code",
   "execution_count": 15,
   "id": "498e0788",
   "metadata": {},
   "outputs": [
    {
     "data": {
      "text/plain": [
       "(2264594, 77)"
      ]
     },
     "execution_count": 15,
     "metadata": {},
     "output_type": "execute_result"
    }
   ],
   "source": [
    "x_train.shape"
   ]
  },
  {
   "cell_type": "code",
   "execution_count": 14,
   "id": "c66a4f7e",
   "metadata": {},
   "outputs": [
    {
     "name": "stderr",
     "output_type": "stream",
     "text": [
      "2022-07-09 15:02:36.762674: W tensorflow/stream_executor/platform/default/dso_loader.cc:64] Could not load dynamic library 'libcudart.so.11.0'; dlerror: libcudart.so.11.0: cannot open shared object file: No such file or directory\n",
      "2022-07-09 15:02:36.762694: I tensorflow/stream_executor/cuda/cudart_stub.cc:29] Ignore above cudart dlerror if you do not have a GPU set up on your machine.\n"
     ]
    }
   ],
   "source": [
    "import csv\n",
    "import os\n",
    "import pandas as pd\n",
    "import numpy as np\n",
    "import copy\n",
    "import time\n",
    "import pickle\n",
    "import tensorflow as tf\n",
    "from tensorflow.keras import Sequential\n",
    "from tensorflow.keras.layers import Embedding, LSTM, Dropout, Dense, Activation, GRU\n",
    "from sklearn.preprocessing import normalize, LabelEncoder, MinMaxScaler\n",
    "\n",
    "import sklearn.model_selection as model_selection\n",
    "from sklearn.inspection import permutation_importance\n",
    "from sklearn.metrics import accuracy_score, precision_score, recall_score, f1_score, det_curve\n",
    "import matplotlib.pyplot as plt"
   ]
  },
  {
   "cell_type": "code",
   "execution_count": 16,
   "id": "01182929",
   "metadata": {},
   "outputs": [
    {
     "name": "stderr",
     "output_type": "stream",
     "text": [
      "2022-07-09 15:03:32.494203: I tensorflow/stream_executor/cuda/cuda_gpu_executor.cc:936] successful NUMA node read from SysFS had negative value (-1), but there must be at least one NUMA node, so returning NUMA node zero\n",
      "2022-07-09 15:03:32.494539: W tensorflow/stream_executor/platform/default/dso_loader.cc:64] Could not load dynamic library 'libcudart.so.11.0'; dlerror: libcudart.so.11.0: cannot open shared object file: No such file or directory\n",
      "2022-07-09 15:03:32.494602: W tensorflow/stream_executor/platform/default/dso_loader.cc:64] Could not load dynamic library 'libcublas.so.11'; dlerror: libcublas.so.11: cannot open shared object file: No such file or directory\n",
      "2022-07-09 15:03:32.494657: W tensorflow/stream_executor/platform/default/dso_loader.cc:64] Could not load dynamic library 'libcublasLt.so.11'; dlerror: libcublasLt.so.11: cannot open shared object file: No such file or directory\n",
      "2022-07-09 15:03:32.516368: W tensorflow/stream_executor/platform/default/dso_loader.cc:64] Could not load dynamic library 'libcusolver.so.11'; dlerror: libcusolver.so.11: cannot open shared object file: No such file or directory\n",
      "2022-07-09 15:03:32.516429: W tensorflow/stream_executor/platform/default/dso_loader.cc:64] Could not load dynamic library 'libcusparse.so.11'; dlerror: libcusparse.so.11: cannot open shared object file: No such file or directory\n",
      "2022-07-09 15:03:32.516485: W tensorflow/stream_executor/platform/default/dso_loader.cc:64] Could not load dynamic library 'libcudnn.so.8'; dlerror: libcudnn.so.8: cannot open shared object file: No such file or directory\n",
      "2022-07-09 15:03:32.516493: W tensorflow/core/common_runtime/gpu/gpu_device.cc:1850] Cannot dlopen some GPU libraries. Please make sure the missing libraries mentioned above are installed properly if you would like to use GPU. Follow the guide at https://www.tensorflow.org/install/gpu for how to download and setup the required libraries for your platform.\n",
      "Skipping registering GPU devices...\n",
      "2022-07-09 15:03:32.517284: I tensorflow/core/platform/cpu_feature_guard.cc:151] This TensorFlow binary is optimized with oneAPI Deep Neural Network Library (oneDNN) to use the following CPU instructions in performance-critical operations:  AVX2 FMA\n",
      "To enable them in other operations, rebuild TensorFlow with the appropriate compiler flags.\n"
     ]
    }
   ],
   "source": [
    "model = Sequential()\n",
    "# model.add(Embedding(64, 42, input_length=64))\n",
    "\n",
    "# !!! Play with those! try and get better results!\n",
    "#model.add(SimpleRNN(128))  \n",
    "#model.add(GRU(128))  \n",
    "model.add(LSTM(300, activation=\"tanh\", return_sequences = True, input_shape = (77, 1)))\n",
    "model.add(Dropout(0.4))\n",
    "\n",
    "model.add(LSTM(200, activation=\"tanh\", return_sequences = True))\n",
    "model.add(Dropout(0.4))\n",
    "\n",
    "model.add(LSTM(100, activation=\"tanh\", return_sequences = True))\n",
    "model.add(Dropout(0.4))\n",
    "\n",
    "model.add(LSTM(80, activation=\"tanh\"))\n",
    "model.add(Dropout(0.4))\n",
    "\n",
    "model.add(Dense(1))\n",
    "model.add(Activation('sigmoid'))\n",
    "\n",
    "# try using different optimizers and different optimizer configs\n",
    "model.compile(loss='binary_crossentropy', optimizer='adam', metrics=['accuracy'])"
   ]
  },
  {
   "cell_type": "code",
   "execution_count": 17,
   "id": "dc96e249",
   "metadata": {},
   "outputs": [
    {
     "name": "stdout",
     "output_type": "stream",
     "text": [
      "Epoch 1/20\n"
     ]
    },
    {
     "name": "stderr",
     "output_type": "stream",
     "text": [
      "2022-07-09 15:03:47.972266: W tensorflow/core/framework/cpu_allocator_impl.cc:82] Allocation of 697494952 exceeds 10% of free system memory.\n"
     ]
    },
    {
     "name": "stdout",
     "output_type": "stream",
     "text": [
      "35385/35385 [==============================] - 15455s 437ms/step - loss: 0.4978 - accuracy: 0.8028 - val_loss: 0.4960 - val_accuracy: 0.8032\n",
      "Epoch 2/20\n",
      "35385/35385 [==============================] - 15725s 444ms/step - loss: 0.2545 - accuracy: 0.8893 - val_loss: 0.1456 - val_accuracy: 0.9330\n",
      "Epoch 3/20\n",
      "35385/35385 [==============================] - 15793s 446ms/step - loss: 0.1301 - accuracy: 0.9400 - val_loss: 0.1162 - val_accuracy: 0.9442\n",
      "Epoch 4/20\n",
      "35385/35385 [==============================] - 15967s 451ms/step - loss: 0.0975 - accuracy: 0.9565 - val_loss: 0.0789 - val_accuracy: 0.9581\n",
      "Epoch 5/20\n",
      " 2153/35385 [>.............................] - ETA: 3:50:42 - loss: 0.0785 - accuracy: 0.9640"
     ]
    },
    {
     "ename": "KeyboardInterrupt",
     "evalue": "",
     "output_type": "error",
     "traceback": [
      "\u001b[0;31m---------------------------------------------------------------------------\u001b[0m",
      "\u001b[0;31mKeyboardInterrupt\u001b[0m                         Traceback (most recent call last)",
      "\u001b[0;32m/tmp/ipykernel_5258/3079465485.py\u001b[0m in \u001b[0;36m<module>\u001b[0;34m\u001b[0m\n\u001b[0;32m----> 1\u001b[0;31m model.fit(x_train, y_train, batch_size=64, \n\u001b[0m\u001b[1;32m      2\u001b[0m           epochs=20, validation_data=(x_test, y_test))\n",
      "\u001b[0;32m~/anaconda3/lib/python3.9/site-packages/keras/utils/traceback_utils.py\u001b[0m in \u001b[0;36merror_handler\u001b[0;34m(*args, **kwargs)\u001b[0m\n\u001b[1;32m     62\u001b[0m     \u001b[0mfiltered_tb\u001b[0m \u001b[0;34m=\u001b[0m \u001b[0;32mNone\u001b[0m\u001b[0;34m\u001b[0m\u001b[0;34m\u001b[0m\u001b[0m\n\u001b[1;32m     63\u001b[0m     \u001b[0;32mtry\u001b[0m\u001b[0;34m:\u001b[0m\u001b[0;34m\u001b[0m\u001b[0;34m\u001b[0m\u001b[0m\n\u001b[0;32m---> 64\u001b[0;31m       \u001b[0;32mreturn\u001b[0m \u001b[0mfn\u001b[0m\u001b[0;34m(\u001b[0m\u001b[0;34m*\u001b[0m\u001b[0margs\u001b[0m\u001b[0;34m,\u001b[0m \u001b[0;34m**\u001b[0m\u001b[0mkwargs\u001b[0m\u001b[0;34m)\u001b[0m\u001b[0;34m\u001b[0m\u001b[0;34m\u001b[0m\u001b[0m\n\u001b[0m\u001b[1;32m     65\u001b[0m     \u001b[0;32mexcept\u001b[0m \u001b[0mException\u001b[0m \u001b[0;32mas\u001b[0m \u001b[0me\u001b[0m\u001b[0;34m:\u001b[0m  \u001b[0;31m# pylint: disable=broad-except\u001b[0m\u001b[0;34m\u001b[0m\u001b[0;34m\u001b[0m\u001b[0m\n\u001b[1;32m     66\u001b[0m       \u001b[0mfiltered_tb\u001b[0m \u001b[0;34m=\u001b[0m \u001b[0m_process_traceback_frames\u001b[0m\u001b[0;34m(\u001b[0m\u001b[0me\u001b[0m\u001b[0;34m.\u001b[0m\u001b[0m__traceback__\u001b[0m\u001b[0;34m)\u001b[0m\u001b[0;34m\u001b[0m\u001b[0;34m\u001b[0m\u001b[0m\n",
      "\u001b[0;32m~/anaconda3/lib/python3.9/site-packages/keras/engine/training.py\u001b[0m in \u001b[0;36mfit\u001b[0;34m(self, x, y, batch_size, epochs, verbose, callbacks, validation_split, validation_data, shuffle, class_weight, sample_weight, initial_epoch, steps_per_epoch, validation_steps, validation_batch_size, validation_freq, max_queue_size, workers, use_multiprocessing)\u001b[0m\n\u001b[1;32m   1382\u001b[0m                 _r=1):\n\u001b[1;32m   1383\u001b[0m               \u001b[0mcallbacks\u001b[0m\u001b[0;34m.\u001b[0m\u001b[0mon_train_batch_begin\u001b[0m\u001b[0;34m(\u001b[0m\u001b[0mstep\u001b[0m\u001b[0;34m)\u001b[0m\u001b[0;34m\u001b[0m\u001b[0;34m\u001b[0m\u001b[0m\n\u001b[0;32m-> 1384\u001b[0;31m               \u001b[0mtmp_logs\u001b[0m \u001b[0;34m=\u001b[0m \u001b[0mself\u001b[0m\u001b[0;34m.\u001b[0m\u001b[0mtrain_function\u001b[0m\u001b[0;34m(\u001b[0m\u001b[0miterator\u001b[0m\u001b[0;34m)\u001b[0m\u001b[0;34m\u001b[0m\u001b[0;34m\u001b[0m\u001b[0m\n\u001b[0m\u001b[1;32m   1385\u001b[0m               \u001b[0;32mif\u001b[0m \u001b[0mdata_handler\u001b[0m\u001b[0;34m.\u001b[0m\u001b[0mshould_sync\u001b[0m\u001b[0;34m:\u001b[0m\u001b[0;34m\u001b[0m\u001b[0;34m\u001b[0m\u001b[0m\n\u001b[1;32m   1386\u001b[0m                 \u001b[0mcontext\u001b[0m\u001b[0;34m.\u001b[0m\u001b[0masync_wait\u001b[0m\u001b[0;34m(\u001b[0m\u001b[0;34m)\u001b[0m\u001b[0;34m\u001b[0m\u001b[0;34m\u001b[0m\u001b[0m\n",
      "\u001b[0;32m~/anaconda3/lib/python3.9/site-packages/tensorflow/python/util/traceback_utils.py\u001b[0m in \u001b[0;36merror_handler\u001b[0;34m(*args, **kwargs)\u001b[0m\n\u001b[1;32m    148\u001b[0m     \u001b[0mfiltered_tb\u001b[0m \u001b[0;34m=\u001b[0m \u001b[0;32mNone\u001b[0m\u001b[0;34m\u001b[0m\u001b[0;34m\u001b[0m\u001b[0m\n\u001b[1;32m    149\u001b[0m     \u001b[0;32mtry\u001b[0m\u001b[0;34m:\u001b[0m\u001b[0;34m\u001b[0m\u001b[0;34m\u001b[0m\u001b[0m\n\u001b[0;32m--> 150\u001b[0;31m       \u001b[0;32mreturn\u001b[0m \u001b[0mfn\u001b[0m\u001b[0;34m(\u001b[0m\u001b[0;34m*\u001b[0m\u001b[0margs\u001b[0m\u001b[0;34m,\u001b[0m \u001b[0;34m**\u001b[0m\u001b[0mkwargs\u001b[0m\u001b[0;34m)\u001b[0m\u001b[0;34m\u001b[0m\u001b[0;34m\u001b[0m\u001b[0m\n\u001b[0m\u001b[1;32m    151\u001b[0m     \u001b[0;32mexcept\u001b[0m \u001b[0mException\u001b[0m \u001b[0;32mas\u001b[0m \u001b[0me\u001b[0m\u001b[0;34m:\u001b[0m\u001b[0;34m\u001b[0m\u001b[0;34m\u001b[0m\u001b[0m\n\u001b[1;32m    152\u001b[0m       \u001b[0mfiltered_tb\u001b[0m \u001b[0;34m=\u001b[0m \u001b[0m_process_traceback_frames\u001b[0m\u001b[0;34m(\u001b[0m\u001b[0me\u001b[0m\u001b[0;34m.\u001b[0m\u001b[0m__traceback__\u001b[0m\u001b[0;34m)\u001b[0m\u001b[0;34m\u001b[0m\u001b[0;34m\u001b[0m\u001b[0m\n",
      "\u001b[0;32m~/anaconda3/lib/python3.9/site-packages/tensorflow/python/eager/def_function.py\u001b[0m in \u001b[0;36m__call__\u001b[0;34m(self, *args, **kwds)\u001b[0m\n\u001b[1;32m    913\u001b[0m \u001b[0;34m\u001b[0m\u001b[0m\n\u001b[1;32m    914\u001b[0m       \u001b[0;32mwith\u001b[0m \u001b[0mOptionalXlaContext\u001b[0m\u001b[0;34m(\u001b[0m\u001b[0mself\u001b[0m\u001b[0;34m.\u001b[0m\u001b[0m_jit_compile\u001b[0m\u001b[0;34m)\u001b[0m\u001b[0;34m:\u001b[0m\u001b[0;34m\u001b[0m\u001b[0;34m\u001b[0m\u001b[0m\n\u001b[0;32m--> 915\u001b[0;31m         \u001b[0mresult\u001b[0m \u001b[0;34m=\u001b[0m \u001b[0mself\u001b[0m\u001b[0;34m.\u001b[0m\u001b[0m_call\u001b[0m\u001b[0;34m(\u001b[0m\u001b[0;34m*\u001b[0m\u001b[0margs\u001b[0m\u001b[0;34m,\u001b[0m \u001b[0;34m**\u001b[0m\u001b[0mkwds\u001b[0m\u001b[0;34m)\u001b[0m\u001b[0;34m\u001b[0m\u001b[0;34m\u001b[0m\u001b[0m\n\u001b[0m\u001b[1;32m    916\u001b[0m \u001b[0;34m\u001b[0m\u001b[0m\n\u001b[1;32m    917\u001b[0m       \u001b[0mnew_tracing_count\u001b[0m \u001b[0;34m=\u001b[0m \u001b[0mself\u001b[0m\u001b[0;34m.\u001b[0m\u001b[0mexperimental_get_tracing_count\u001b[0m\u001b[0;34m(\u001b[0m\u001b[0;34m)\u001b[0m\u001b[0;34m\u001b[0m\u001b[0;34m\u001b[0m\u001b[0m\n",
      "\u001b[0;32m~/anaconda3/lib/python3.9/site-packages/tensorflow/python/eager/def_function.py\u001b[0m in \u001b[0;36m_call\u001b[0;34m(self, *args, **kwds)\u001b[0m\n\u001b[1;32m    945\u001b[0m       \u001b[0;31m# In this case we have created variables on the first call, so we run the\u001b[0m\u001b[0;34m\u001b[0m\u001b[0;34m\u001b[0m\u001b[0m\n\u001b[1;32m    946\u001b[0m       \u001b[0;31m# defunned version which is guaranteed to never create variables.\u001b[0m\u001b[0;34m\u001b[0m\u001b[0;34m\u001b[0m\u001b[0m\n\u001b[0;32m--> 947\u001b[0;31m       \u001b[0;32mreturn\u001b[0m \u001b[0mself\u001b[0m\u001b[0;34m.\u001b[0m\u001b[0m_stateless_fn\u001b[0m\u001b[0;34m(\u001b[0m\u001b[0;34m*\u001b[0m\u001b[0margs\u001b[0m\u001b[0;34m,\u001b[0m \u001b[0;34m**\u001b[0m\u001b[0mkwds\u001b[0m\u001b[0;34m)\u001b[0m  \u001b[0;31m# pylint: disable=not-callable\u001b[0m\u001b[0;34m\u001b[0m\u001b[0;34m\u001b[0m\u001b[0m\n\u001b[0m\u001b[1;32m    948\u001b[0m     \u001b[0;32melif\u001b[0m \u001b[0mself\u001b[0m\u001b[0;34m.\u001b[0m\u001b[0m_stateful_fn\u001b[0m \u001b[0;32mis\u001b[0m \u001b[0;32mnot\u001b[0m \u001b[0;32mNone\u001b[0m\u001b[0;34m:\u001b[0m\u001b[0;34m\u001b[0m\u001b[0;34m\u001b[0m\u001b[0m\n\u001b[1;32m    949\u001b[0m       \u001b[0;31m# Release the lock early so that multiple threads can perform the call\u001b[0m\u001b[0;34m\u001b[0m\u001b[0;34m\u001b[0m\u001b[0m\n",
      "\u001b[0;32m~/anaconda3/lib/python3.9/site-packages/tensorflow/python/eager/function.py\u001b[0m in \u001b[0;36m__call__\u001b[0;34m(self, *args, **kwargs)\u001b[0m\n\u001b[1;32m   2954\u001b[0m       (graph_function,\n\u001b[1;32m   2955\u001b[0m        filtered_flat_args) = self._maybe_define_function(args, kwargs)\n\u001b[0;32m-> 2956\u001b[0;31m     return graph_function._call_flat(\n\u001b[0m\u001b[1;32m   2957\u001b[0m         filtered_flat_args, captured_inputs=graph_function.captured_inputs)  # pylint: disable=protected-access\n\u001b[1;32m   2958\u001b[0m \u001b[0;34m\u001b[0m\u001b[0m\n",
      "\u001b[0;32m~/anaconda3/lib/python3.9/site-packages/tensorflow/python/eager/function.py\u001b[0m in \u001b[0;36m_call_flat\u001b[0;34m(self, args, captured_inputs, cancellation_manager)\u001b[0m\n\u001b[1;32m   1851\u001b[0m         and executing_eagerly):\n\u001b[1;32m   1852\u001b[0m       \u001b[0;31m# No tape is watching; skip to running the function.\u001b[0m\u001b[0;34m\u001b[0m\u001b[0;34m\u001b[0m\u001b[0m\n\u001b[0;32m-> 1853\u001b[0;31m       return self._build_call_outputs(self._inference_function.call(\n\u001b[0m\u001b[1;32m   1854\u001b[0m           ctx, args, cancellation_manager=cancellation_manager))\n\u001b[1;32m   1855\u001b[0m     forward_backward = self._select_forward_and_backward_functions(\n",
      "\u001b[0;32m~/anaconda3/lib/python3.9/site-packages/tensorflow/python/eager/function.py\u001b[0m in \u001b[0;36mcall\u001b[0;34m(self, ctx, args, cancellation_manager)\u001b[0m\n\u001b[1;32m    497\u001b[0m       \u001b[0;32mwith\u001b[0m \u001b[0m_InterpolateFunctionError\u001b[0m\u001b[0;34m(\u001b[0m\u001b[0mself\u001b[0m\u001b[0;34m)\u001b[0m\u001b[0;34m:\u001b[0m\u001b[0;34m\u001b[0m\u001b[0;34m\u001b[0m\u001b[0m\n\u001b[1;32m    498\u001b[0m         \u001b[0;32mif\u001b[0m \u001b[0mcancellation_manager\u001b[0m \u001b[0;32mis\u001b[0m \u001b[0;32mNone\u001b[0m\u001b[0;34m:\u001b[0m\u001b[0;34m\u001b[0m\u001b[0;34m\u001b[0m\u001b[0m\n\u001b[0;32m--> 499\u001b[0;31m           outputs = execute.execute(\n\u001b[0m\u001b[1;32m    500\u001b[0m               \u001b[0mstr\u001b[0m\u001b[0;34m(\u001b[0m\u001b[0mself\u001b[0m\u001b[0;34m.\u001b[0m\u001b[0msignature\u001b[0m\u001b[0;34m.\u001b[0m\u001b[0mname\u001b[0m\u001b[0;34m)\u001b[0m\u001b[0;34m,\u001b[0m\u001b[0;34m\u001b[0m\u001b[0;34m\u001b[0m\u001b[0m\n\u001b[1;32m    501\u001b[0m               \u001b[0mnum_outputs\u001b[0m\u001b[0;34m=\u001b[0m\u001b[0mself\u001b[0m\u001b[0;34m.\u001b[0m\u001b[0m_num_outputs\u001b[0m\u001b[0;34m,\u001b[0m\u001b[0;34m\u001b[0m\u001b[0;34m\u001b[0m\u001b[0m\n",
      "\u001b[0;32m~/anaconda3/lib/python3.9/site-packages/tensorflow/python/eager/execute.py\u001b[0m in \u001b[0;36mquick_execute\u001b[0;34m(op_name, num_outputs, inputs, attrs, ctx, name)\u001b[0m\n\u001b[1;32m     52\u001b[0m   \u001b[0;32mtry\u001b[0m\u001b[0;34m:\u001b[0m\u001b[0;34m\u001b[0m\u001b[0;34m\u001b[0m\u001b[0m\n\u001b[1;32m     53\u001b[0m     \u001b[0mctx\u001b[0m\u001b[0;34m.\u001b[0m\u001b[0mensure_initialized\u001b[0m\u001b[0;34m(\u001b[0m\u001b[0;34m)\u001b[0m\u001b[0;34m\u001b[0m\u001b[0;34m\u001b[0m\u001b[0m\n\u001b[0;32m---> 54\u001b[0;31m     tensors = pywrap_tfe.TFE_Py_Execute(ctx._handle, device_name, op_name,\n\u001b[0m\u001b[1;32m     55\u001b[0m                                         inputs, attrs, num_outputs)\n\u001b[1;32m     56\u001b[0m   \u001b[0;32mexcept\u001b[0m \u001b[0mcore\u001b[0m\u001b[0;34m.\u001b[0m\u001b[0m_NotOkStatusException\u001b[0m \u001b[0;32mas\u001b[0m \u001b[0me\u001b[0m\u001b[0;34m:\u001b[0m\u001b[0;34m\u001b[0m\u001b[0;34m\u001b[0m\u001b[0m\n",
      "\u001b[0;31mKeyboardInterrupt\u001b[0m: "
     ]
    }
   ],
   "source": [
    "model.fit(x_train, y_train, batch_size=64, \n",
    "          epochs=20, validation_data=(x_test, y_test))\n"
   ]
  },
  {
   "cell_type": "code",
   "execution_count": 18,
   "id": "c83f715b",
   "metadata": {},
   "outputs": [],
   "source": [
    "prediction_lstm = model.predict(x_test)\n",
    "a = prediction_lstm.flatten()\n",
    "pre2 = [int(round(i, 0)) for i in a]"
   ]
  },
  {
   "cell_type": "code",
   "execution_count": 19,
   "id": "b5e0bb3e",
   "metadata": {},
   "outputs": [
    {
     "name": "stdout",
     "output_type": "stream",
     "text": [
      "0.9414412107060156 0.859787484373851 0.8393800981720614 0.8494612426156409\n"
     ]
    }
   ],
   "source": [
    "accuracy = accuracy_score(y_test, pre2)\n",
    "precision = precision_score(y_test, pre2, average='binary')\n",
    "recall = recall_score(y_test, pre2, average='binary')\n",
    "f1_ = f1_score(y_test, pre2, average='binary')\n",
    "\n",
    "print(accuracy, precision, recall, f1_)"
   ]
  },
  {
   "cell_type": "code",
   "execution_count": 20,
   "id": "83299835",
   "metadata": {},
   "outputs": [],
   "source": [
    "model = Sequential()\n",
    "# model.add(Embedding(64, 42, input_length=64))\n",
    "\n",
    "# !!! Play with those! try and get better results!\n",
    "#model.add(SimpleRNN(128))  \n",
    "#model.add(GRU(128))  \n",
    "model.add(GRU(300, activation=\"tanh\", return_sequences = True, input_shape = (77, 1)))\n",
    "model.add(Dropout(0.4))\n",
    "\n",
    "model.add(GRU(200, activation=\"tanh\", return_sequences = True))\n",
    "model.add(Dropout(0.4))\n",
    "\n",
    "model.add(GRU(100, activation=\"tanh\", return_sequences = True))\n",
    "model.add(Dropout(0.4))\n",
    "\n",
    "model.add(GRU(80, activation=\"tanh\"))\n",
    "model.add(Dropout(0.4))\n",
    "\n",
    "model.add(Dense(1))\n",
    "model.add(Activation('sigmoid'))\n",
    "\n",
    "# try using different optimizers and different optimizer configs\n",
    "model.compile(loss='binary_crossentropy', optimizer='adam', metrics=['accuracy'])"
   ]
  },
  {
   "cell_type": "code",
   "execution_count": 21,
   "id": "a88bb051",
   "metadata": {},
   "outputs": [
    {
     "name": "stdout",
     "output_type": "stream",
     "text": [
      "Epoch 1/6\n"
     ]
    },
    {
     "name": "stderr",
     "output_type": "stream",
     "text": [
      "2022-07-10 09:26:27.460834: W tensorflow/core/framework/cpu_allocator_impl.cc:82] Allocation of 697494952 exceeds 10% of free system memory.\n"
     ]
    },
    {
     "name": "stdout",
     "output_type": "stream",
     "text": [
      "35385/35385 [==============================] - 13482s 381ms/step - loss: 0.2752 - accuracy: 0.8852 - val_loss: 0.1481 - val_accuracy: 0.9278\n",
      "Epoch 2/6\n",
      "35385/35385 [==============================] - 12741s 360ms/step - loss: 0.1438 - accuracy: 0.9358 - val_loss: 0.1216 - val_accuracy: 0.9473\n",
      "Epoch 3/6\n",
      "35385/35385 [==============================] - 11836s 334ms/step - loss: 0.1280 - accuracy: 0.9425 - val_loss: 0.1181 - val_accuracy: 0.9471\n",
      "Epoch 4/6\n",
      "35385/35385 [==============================] - ETA: 0s - loss: 0.1299 - accuracy: 0.9416"
     ]
    },
    {
     "ename": "KeyboardInterrupt",
     "evalue": "",
     "output_type": "error",
     "traceback": [
      "\u001b[0;31m---------------------------------------------------------------------------\u001b[0m",
      "\u001b[0;31mKeyboardInterrupt\u001b[0m                         Traceback (most recent call last)",
      "\u001b[0;32m/tmp/ipykernel_5258/2452320327.py\u001b[0m in \u001b[0;36m<module>\u001b[0;34m\u001b[0m\n\u001b[0;32m----> 1\u001b[0;31m model.fit(x_train, y_train, batch_size=64, \n\u001b[0m\u001b[1;32m      2\u001b[0m           epochs=6, validation_data=(x_test, y_test))\n",
      "\u001b[0;32m~/anaconda3/lib/python3.9/site-packages/keras/utils/traceback_utils.py\u001b[0m in \u001b[0;36merror_handler\u001b[0;34m(*args, **kwargs)\u001b[0m\n\u001b[1;32m     62\u001b[0m     \u001b[0mfiltered_tb\u001b[0m \u001b[0;34m=\u001b[0m \u001b[0;32mNone\u001b[0m\u001b[0;34m\u001b[0m\u001b[0;34m\u001b[0m\u001b[0m\n\u001b[1;32m     63\u001b[0m     \u001b[0;32mtry\u001b[0m\u001b[0;34m:\u001b[0m\u001b[0;34m\u001b[0m\u001b[0;34m\u001b[0m\u001b[0m\n\u001b[0;32m---> 64\u001b[0;31m       \u001b[0;32mreturn\u001b[0m \u001b[0mfn\u001b[0m\u001b[0;34m(\u001b[0m\u001b[0;34m*\u001b[0m\u001b[0margs\u001b[0m\u001b[0;34m,\u001b[0m \u001b[0;34m**\u001b[0m\u001b[0mkwargs\u001b[0m\u001b[0;34m)\u001b[0m\u001b[0;34m\u001b[0m\u001b[0;34m\u001b[0m\u001b[0m\n\u001b[0m\u001b[1;32m     65\u001b[0m     \u001b[0;32mexcept\u001b[0m \u001b[0mException\u001b[0m \u001b[0;32mas\u001b[0m \u001b[0me\u001b[0m\u001b[0;34m:\u001b[0m  \u001b[0;31m# pylint: disable=broad-except\u001b[0m\u001b[0;34m\u001b[0m\u001b[0;34m\u001b[0m\u001b[0m\n\u001b[1;32m     66\u001b[0m       \u001b[0mfiltered_tb\u001b[0m \u001b[0;34m=\u001b[0m \u001b[0m_process_traceback_frames\u001b[0m\u001b[0;34m(\u001b[0m\u001b[0me\u001b[0m\u001b[0;34m.\u001b[0m\u001b[0m__traceback__\u001b[0m\u001b[0;34m)\u001b[0m\u001b[0;34m\u001b[0m\u001b[0;34m\u001b[0m\u001b[0m\n",
      "\u001b[0;32m~/anaconda3/lib/python3.9/site-packages/keras/engine/training.py\u001b[0m in \u001b[0;36mfit\u001b[0;34m(self, x, y, batch_size, epochs, verbose, callbacks, validation_split, validation_data, shuffle, class_weight, sample_weight, initial_epoch, steps_per_epoch, validation_steps, validation_batch_size, validation_freq, max_queue_size, workers, use_multiprocessing)\u001b[0m\n\u001b[1;32m   1418\u001b[0m                 \u001b[0mmodel\u001b[0m\u001b[0;34m=\u001b[0m\u001b[0mself\u001b[0m\u001b[0;34m,\u001b[0m\u001b[0;34m\u001b[0m\u001b[0;34m\u001b[0m\u001b[0m\n\u001b[1;32m   1419\u001b[0m                 steps_per_execution=self._steps_per_execution)\n\u001b[0;32m-> 1420\u001b[0;31m           val_logs = self.evaluate(\n\u001b[0m\u001b[1;32m   1421\u001b[0m               \u001b[0mx\u001b[0m\u001b[0;34m=\u001b[0m\u001b[0mval_x\u001b[0m\u001b[0;34m,\u001b[0m\u001b[0;34m\u001b[0m\u001b[0;34m\u001b[0m\u001b[0m\n\u001b[1;32m   1422\u001b[0m               \u001b[0my\u001b[0m\u001b[0;34m=\u001b[0m\u001b[0mval_y\u001b[0m\u001b[0;34m,\u001b[0m\u001b[0;34m\u001b[0m\u001b[0;34m\u001b[0m\u001b[0m\n",
      "\u001b[0;32m~/anaconda3/lib/python3.9/site-packages/keras/utils/traceback_utils.py\u001b[0m in \u001b[0;36merror_handler\u001b[0;34m(*args, **kwargs)\u001b[0m\n\u001b[1;32m     62\u001b[0m     \u001b[0mfiltered_tb\u001b[0m \u001b[0;34m=\u001b[0m \u001b[0;32mNone\u001b[0m\u001b[0;34m\u001b[0m\u001b[0;34m\u001b[0m\u001b[0m\n\u001b[1;32m     63\u001b[0m     \u001b[0;32mtry\u001b[0m\u001b[0;34m:\u001b[0m\u001b[0;34m\u001b[0m\u001b[0;34m\u001b[0m\u001b[0m\n\u001b[0;32m---> 64\u001b[0;31m       \u001b[0;32mreturn\u001b[0m \u001b[0mfn\u001b[0m\u001b[0;34m(\u001b[0m\u001b[0;34m*\u001b[0m\u001b[0margs\u001b[0m\u001b[0;34m,\u001b[0m \u001b[0;34m**\u001b[0m\u001b[0mkwargs\u001b[0m\u001b[0;34m)\u001b[0m\u001b[0;34m\u001b[0m\u001b[0;34m\u001b[0m\u001b[0m\n\u001b[0m\u001b[1;32m     65\u001b[0m     \u001b[0;32mexcept\u001b[0m \u001b[0mException\u001b[0m \u001b[0;32mas\u001b[0m \u001b[0me\u001b[0m\u001b[0;34m:\u001b[0m  \u001b[0;31m# pylint: disable=broad-except\u001b[0m\u001b[0;34m\u001b[0m\u001b[0;34m\u001b[0m\u001b[0m\n\u001b[1;32m     66\u001b[0m       \u001b[0mfiltered_tb\u001b[0m \u001b[0;34m=\u001b[0m \u001b[0m_process_traceback_frames\u001b[0m\u001b[0;34m(\u001b[0m\u001b[0me\u001b[0m\u001b[0;34m.\u001b[0m\u001b[0m__traceback__\u001b[0m\u001b[0;34m)\u001b[0m\u001b[0;34m\u001b[0m\u001b[0;34m\u001b[0m\u001b[0m\n",
      "\u001b[0;32m~/anaconda3/lib/python3.9/site-packages/keras/engine/training.py\u001b[0m in \u001b[0;36mevaluate\u001b[0;34m(self, x, y, batch_size, verbose, sample_weight, steps, callbacks, max_queue_size, workers, use_multiprocessing, return_dict, **kwargs)\u001b[0m\n\u001b[1;32m   1714\u001b[0m             \u001b[0;32mwith\u001b[0m \u001b[0mtf\u001b[0m\u001b[0;34m.\u001b[0m\u001b[0mprofiler\u001b[0m\u001b[0;34m.\u001b[0m\u001b[0mexperimental\u001b[0m\u001b[0;34m.\u001b[0m\u001b[0mTrace\u001b[0m\u001b[0;34m(\u001b[0m\u001b[0;34m'test'\u001b[0m\u001b[0;34m,\u001b[0m \u001b[0mstep_num\u001b[0m\u001b[0;34m=\u001b[0m\u001b[0mstep\u001b[0m\u001b[0;34m,\u001b[0m \u001b[0m_r\u001b[0m\u001b[0;34m=\u001b[0m\u001b[0;36m1\u001b[0m\u001b[0;34m)\u001b[0m\u001b[0;34m:\u001b[0m\u001b[0;34m\u001b[0m\u001b[0;34m\u001b[0m\u001b[0m\n\u001b[1;32m   1715\u001b[0m               \u001b[0mcallbacks\u001b[0m\u001b[0;34m.\u001b[0m\u001b[0mon_test_batch_begin\u001b[0m\u001b[0;34m(\u001b[0m\u001b[0mstep\u001b[0m\u001b[0;34m)\u001b[0m\u001b[0;34m\u001b[0m\u001b[0;34m\u001b[0m\u001b[0m\n\u001b[0;32m-> 1716\u001b[0;31m               \u001b[0mtmp_logs\u001b[0m \u001b[0;34m=\u001b[0m \u001b[0mself\u001b[0m\u001b[0;34m.\u001b[0m\u001b[0mtest_function\u001b[0m\u001b[0;34m(\u001b[0m\u001b[0miterator\u001b[0m\u001b[0;34m)\u001b[0m\u001b[0;34m\u001b[0m\u001b[0;34m\u001b[0m\u001b[0m\n\u001b[0m\u001b[1;32m   1717\u001b[0m               \u001b[0;32mif\u001b[0m \u001b[0mdata_handler\u001b[0m\u001b[0;34m.\u001b[0m\u001b[0mshould_sync\u001b[0m\u001b[0;34m:\u001b[0m\u001b[0;34m\u001b[0m\u001b[0;34m\u001b[0m\u001b[0m\n\u001b[1;32m   1718\u001b[0m                 \u001b[0mcontext\u001b[0m\u001b[0;34m.\u001b[0m\u001b[0masync_wait\u001b[0m\u001b[0;34m(\u001b[0m\u001b[0;34m)\u001b[0m\u001b[0;34m\u001b[0m\u001b[0;34m\u001b[0m\u001b[0m\n",
      "\u001b[0;32m~/anaconda3/lib/python3.9/site-packages/tensorflow/python/util/traceback_utils.py\u001b[0m in \u001b[0;36merror_handler\u001b[0;34m(*args, **kwargs)\u001b[0m\n\u001b[1;32m    148\u001b[0m     \u001b[0mfiltered_tb\u001b[0m \u001b[0;34m=\u001b[0m \u001b[0;32mNone\u001b[0m\u001b[0;34m\u001b[0m\u001b[0;34m\u001b[0m\u001b[0m\n\u001b[1;32m    149\u001b[0m     \u001b[0;32mtry\u001b[0m\u001b[0;34m:\u001b[0m\u001b[0;34m\u001b[0m\u001b[0;34m\u001b[0m\u001b[0m\n\u001b[0;32m--> 150\u001b[0;31m       \u001b[0;32mreturn\u001b[0m \u001b[0mfn\u001b[0m\u001b[0;34m(\u001b[0m\u001b[0;34m*\u001b[0m\u001b[0margs\u001b[0m\u001b[0;34m,\u001b[0m \u001b[0;34m**\u001b[0m\u001b[0mkwargs\u001b[0m\u001b[0;34m)\u001b[0m\u001b[0;34m\u001b[0m\u001b[0;34m\u001b[0m\u001b[0m\n\u001b[0m\u001b[1;32m    151\u001b[0m     \u001b[0;32mexcept\u001b[0m \u001b[0mException\u001b[0m \u001b[0;32mas\u001b[0m \u001b[0me\u001b[0m\u001b[0;34m:\u001b[0m\u001b[0;34m\u001b[0m\u001b[0;34m\u001b[0m\u001b[0m\n\u001b[1;32m    152\u001b[0m       \u001b[0mfiltered_tb\u001b[0m \u001b[0;34m=\u001b[0m \u001b[0m_process_traceback_frames\u001b[0m\u001b[0;34m(\u001b[0m\u001b[0me\u001b[0m\u001b[0;34m.\u001b[0m\u001b[0m__traceback__\u001b[0m\u001b[0;34m)\u001b[0m\u001b[0;34m\u001b[0m\u001b[0;34m\u001b[0m\u001b[0m\n",
      "\u001b[0;32m~/anaconda3/lib/python3.9/site-packages/tensorflow/python/eager/def_function.py\u001b[0m in \u001b[0;36m__call__\u001b[0;34m(self, *args, **kwds)\u001b[0m\n\u001b[1;32m    913\u001b[0m \u001b[0;34m\u001b[0m\u001b[0m\n\u001b[1;32m    914\u001b[0m       \u001b[0;32mwith\u001b[0m \u001b[0mOptionalXlaContext\u001b[0m\u001b[0;34m(\u001b[0m\u001b[0mself\u001b[0m\u001b[0;34m.\u001b[0m\u001b[0m_jit_compile\u001b[0m\u001b[0;34m)\u001b[0m\u001b[0;34m:\u001b[0m\u001b[0;34m\u001b[0m\u001b[0;34m\u001b[0m\u001b[0m\n\u001b[0;32m--> 915\u001b[0;31m         \u001b[0mresult\u001b[0m \u001b[0;34m=\u001b[0m \u001b[0mself\u001b[0m\u001b[0;34m.\u001b[0m\u001b[0m_call\u001b[0m\u001b[0;34m(\u001b[0m\u001b[0;34m*\u001b[0m\u001b[0margs\u001b[0m\u001b[0;34m,\u001b[0m \u001b[0;34m**\u001b[0m\u001b[0mkwds\u001b[0m\u001b[0;34m)\u001b[0m\u001b[0;34m\u001b[0m\u001b[0;34m\u001b[0m\u001b[0m\n\u001b[0m\u001b[1;32m    916\u001b[0m \u001b[0;34m\u001b[0m\u001b[0m\n\u001b[1;32m    917\u001b[0m       \u001b[0mnew_tracing_count\u001b[0m \u001b[0;34m=\u001b[0m \u001b[0mself\u001b[0m\u001b[0;34m.\u001b[0m\u001b[0mexperimental_get_tracing_count\u001b[0m\u001b[0;34m(\u001b[0m\u001b[0;34m)\u001b[0m\u001b[0;34m\u001b[0m\u001b[0;34m\u001b[0m\u001b[0m\n",
      "\u001b[0;32m~/anaconda3/lib/python3.9/site-packages/tensorflow/python/eager/def_function.py\u001b[0m in \u001b[0;36m_call\u001b[0;34m(self, *args, **kwds)\u001b[0m\n\u001b[1;32m    952\u001b[0m       \u001b[0;31m# In this case we have not created variables on the first call. So we can\u001b[0m\u001b[0;34m\u001b[0m\u001b[0;34m\u001b[0m\u001b[0m\n\u001b[1;32m    953\u001b[0m       \u001b[0;31m# run the first trace but we should fail if variables are created.\u001b[0m\u001b[0;34m\u001b[0m\u001b[0;34m\u001b[0m\u001b[0m\n\u001b[0;32m--> 954\u001b[0;31m       \u001b[0mresults\u001b[0m \u001b[0;34m=\u001b[0m \u001b[0mself\u001b[0m\u001b[0;34m.\u001b[0m\u001b[0m_stateful_fn\u001b[0m\u001b[0;34m(\u001b[0m\u001b[0;34m*\u001b[0m\u001b[0margs\u001b[0m\u001b[0;34m,\u001b[0m \u001b[0;34m**\u001b[0m\u001b[0mkwds\u001b[0m\u001b[0;34m)\u001b[0m\u001b[0;34m\u001b[0m\u001b[0;34m\u001b[0m\u001b[0m\n\u001b[0m\u001b[1;32m    955\u001b[0m       \u001b[0;32mif\u001b[0m \u001b[0mself\u001b[0m\u001b[0;34m.\u001b[0m\u001b[0m_created_variables\u001b[0m \u001b[0;32mand\u001b[0m \u001b[0;32mnot\u001b[0m \u001b[0mALLOW_DYNAMIC_VARIABLE_CREATION\u001b[0m\u001b[0;34m:\u001b[0m\u001b[0;34m\u001b[0m\u001b[0;34m\u001b[0m\u001b[0m\n\u001b[1;32m    956\u001b[0m         raise ValueError(\"Creating variables on a non-first call to a function\"\n",
      "\u001b[0;32m~/anaconda3/lib/python3.9/site-packages/tensorflow/python/eager/function.py\u001b[0m in \u001b[0;36m__call__\u001b[0;34m(self, *args, **kwargs)\u001b[0m\n\u001b[1;32m   2954\u001b[0m       (graph_function,\n\u001b[1;32m   2955\u001b[0m        filtered_flat_args) = self._maybe_define_function(args, kwargs)\n\u001b[0;32m-> 2956\u001b[0;31m     return graph_function._call_flat(\n\u001b[0m\u001b[1;32m   2957\u001b[0m         filtered_flat_args, captured_inputs=graph_function.captured_inputs)  # pylint: disable=protected-access\n\u001b[1;32m   2958\u001b[0m \u001b[0;34m\u001b[0m\u001b[0m\n",
      "\u001b[0;32m~/anaconda3/lib/python3.9/site-packages/tensorflow/python/eager/function.py\u001b[0m in \u001b[0;36m_call_flat\u001b[0;34m(self, args, captured_inputs, cancellation_manager)\u001b[0m\n\u001b[1;32m   1851\u001b[0m         and executing_eagerly):\n\u001b[1;32m   1852\u001b[0m       \u001b[0;31m# No tape is watching; skip to running the function.\u001b[0m\u001b[0;34m\u001b[0m\u001b[0;34m\u001b[0m\u001b[0m\n\u001b[0;32m-> 1853\u001b[0;31m       return self._build_call_outputs(self._inference_function.call(\n\u001b[0m\u001b[1;32m   1854\u001b[0m           ctx, args, cancellation_manager=cancellation_manager))\n\u001b[1;32m   1855\u001b[0m     forward_backward = self._select_forward_and_backward_functions(\n",
      "\u001b[0;32m~/anaconda3/lib/python3.9/site-packages/tensorflow/python/eager/function.py\u001b[0m in \u001b[0;36mcall\u001b[0;34m(self, ctx, args, cancellation_manager)\u001b[0m\n\u001b[1;32m    497\u001b[0m       \u001b[0;32mwith\u001b[0m \u001b[0m_InterpolateFunctionError\u001b[0m\u001b[0;34m(\u001b[0m\u001b[0mself\u001b[0m\u001b[0;34m)\u001b[0m\u001b[0;34m:\u001b[0m\u001b[0;34m\u001b[0m\u001b[0;34m\u001b[0m\u001b[0m\n\u001b[1;32m    498\u001b[0m         \u001b[0;32mif\u001b[0m \u001b[0mcancellation_manager\u001b[0m \u001b[0;32mis\u001b[0m \u001b[0;32mNone\u001b[0m\u001b[0;34m:\u001b[0m\u001b[0;34m\u001b[0m\u001b[0;34m\u001b[0m\u001b[0m\n\u001b[0;32m--> 499\u001b[0;31m           outputs = execute.execute(\n\u001b[0m\u001b[1;32m    500\u001b[0m               \u001b[0mstr\u001b[0m\u001b[0;34m(\u001b[0m\u001b[0mself\u001b[0m\u001b[0;34m.\u001b[0m\u001b[0msignature\u001b[0m\u001b[0;34m.\u001b[0m\u001b[0mname\u001b[0m\u001b[0;34m)\u001b[0m\u001b[0;34m,\u001b[0m\u001b[0;34m\u001b[0m\u001b[0;34m\u001b[0m\u001b[0m\n\u001b[1;32m    501\u001b[0m               \u001b[0mnum_outputs\u001b[0m\u001b[0;34m=\u001b[0m\u001b[0mself\u001b[0m\u001b[0;34m.\u001b[0m\u001b[0m_num_outputs\u001b[0m\u001b[0;34m,\u001b[0m\u001b[0;34m\u001b[0m\u001b[0;34m\u001b[0m\u001b[0m\n",
      "\u001b[0;32m~/anaconda3/lib/python3.9/site-packages/tensorflow/python/eager/execute.py\u001b[0m in \u001b[0;36mquick_execute\u001b[0;34m(op_name, num_outputs, inputs, attrs, ctx, name)\u001b[0m\n\u001b[1;32m     52\u001b[0m   \u001b[0;32mtry\u001b[0m\u001b[0;34m:\u001b[0m\u001b[0;34m\u001b[0m\u001b[0;34m\u001b[0m\u001b[0m\n\u001b[1;32m     53\u001b[0m     \u001b[0mctx\u001b[0m\u001b[0;34m.\u001b[0m\u001b[0mensure_initialized\u001b[0m\u001b[0;34m(\u001b[0m\u001b[0;34m)\u001b[0m\u001b[0;34m\u001b[0m\u001b[0;34m\u001b[0m\u001b[0m\n\u001b[0;32m---> 54\u001b[0;31m     tensors = pywrap_tfe.TFE_Py_Execute(ctx._handle, device_name, op_name,\n\u001b[0m\u001b[1;32m     55\u001b[0m                                         inputs, attrs, num_outputs)\n\u001b[1;32m     56\u001b[0m   \u001b[0;32mexcept\u001b[0m \u001b[0mcore\u001b[0m\u001b[0;34m.\u001b[0m\u001b[0m_NotOkStatusException\u001b[0m \u001b[0;32mas\u001b[0m \u001b[0me\u001b[0m\u001b[0;34m:\u001b[0m\u001b[0;34m\u001b[0m\u001b[0;34m\u001b[0m\u001b[0m\n",
      "\u001b[0;31mKeyboardInterrupt\u001b[0m: "
     ]
    }
   ],
   "source": [
    "model.fit(x_train, y_train, batch_size=64, \n",
    "          epochs=6, validation_data=(x_test, y_test))\n"
   ]
  },
  {
   "cell_type": "code",
   "execution_count": 26,
   "id": "d88070ff",
   "metadata": {},
   "outputs": [],
   "source": [
    "prediction_lstm = model.predict(x_test)\n",
    "a = prediction_lstm.flatten()\n",
    "pre2 = [int(round(i, 0)) for i in a]"
   ]
  },
  {
   "cell_type": "code",
   "execution_count": 27,
   "id": "61f73206",
   "metadata": {},
   "outputs": [
    {
     "name": "stdout",
     "output_type": "stream",
     "text": [
      "0.946872643067461 0.8447911987320207 0.8944156788140384 0.8688954755470316\n"
     ]
    }
   ],
   "source": [
    "accuracy = accuracy_score(y_test, pre2)\n",
    "precision = precision_score(y_test, pre2, average='binary')\n",
    "recall = recall_score(y_test, pre2, average='binary')\n",
    "f1_ = f1_score(y_test, pre2, average='binary')\n",
    "\n",
    "print(accuracy, precision, recall, f1_)"
   ]
  },
  {
   "cell_type": "code",
   "execution_count": 25,
   "id": "06d99270",
   "metadata": {},
   "outputs": [
    {
     "name": "stderr",
     "output_type": "stream",
     "text": [
      "2022-07-10 23:46:03.300744: W tensorflow/python/util/util.cc:368] Sets are not currently considered sequences, but this may change in the future, so consider avoiding using them.\n",
      "WARNING:absl:Found untraced functions such as gru_cell_layer_call_fn, gru_cell_layer_call_and_return_conditional_losses, gru_cell_1_layer_call_fn, gru_cell_1_layer_call_and_return_conditional_losses, gru_cell_2_layer_call_fn while saving (showing 5 of 8). These functions will not be directly callable after loading.\n"
     ]
    },
    {
     "name": "stdout",
     "output_type": "stream",
     "text": [
      "INFO:tensorflow:Assets written to: ./assets\n"
     ]
    },
    {
     "name": "stderr",
     "output_type": "stream",
     "text": [
      "INFO:tensorflow:Assets written to: ./assets\n",
      "WARNING:absl:<keras.layers.recurrent.GRUCell object at 0x7f6272572a60> has the same name 'GRUCell' as a built-in Keras object. Consider renaming <class 'keras.layers.recurrent.GRUCell'> to avoid naming conflicts when loading with `tf.keras.models.load_model`. If renaming is not possible, pass the object in the `custom_objects` parameter of the load function.\n",
      "WARNING:absl:<keras.layers.recurrent.GRUCell object at 0x7f623e850c10> has the same name 'GRUCell' as a built-in Keras object. Consider renaming <class 'keras.layers.recurrent.GRUCell'> to avoid naming conflicts when loading with `tf.keras.models.load_model`. If renaming is not possible, pass the object in the `custom_objects` parameter of the load function.\n",
      "WARNING:absl:<keras.layers.recurrent.GRUCell object at 0x7f61a397d580> has the same name 'GRUCell' as a built-in Keras object. Consider renaming <class 'keras.layers.recurrent.GRUCell'> to avoid naming conflicts when loading with `tf.keras.models.load_model`. If renaming is not possible, pass the object in the `custom_objects` parameter of the load function.\n",
      "WARNING:absl:<keras.layers.recurrent.GRUCell object at 0x7f61a3912fd0> has the same name 'GRUCell' as a built-in Keras object. Consider renaming <class 'keras.layers.recurrent.GRUCell'> to avoid naming conflicts when loading with `tf.keras.models.load_model`. If renaming is not possible, pass the object in the `custom_objects` parameter of the load function.\n"
     ]
    }
   ],
   "source": [
    "model.save('./')"
   ]
  },
  {
   "cell_type": "code",
   "execution_count": null,
   "id": "397f2aaf",
   "metadata": {},
   "outputs": [],
   "source": []
  }
 ],
 "metadata": {
  "kernelspec": {
   "display_name": "Python 3 (ipykernel)",
   "language": "python",
   "name": "python3"
  },
  "language_info": {
   "codemirror_mode": {
    "name": "ipython",
    "version": 3
   },
   "file_extension": ".py",
   "mimetype": "text/x-python",
   "name": "python",
   "nbconvert_exporter": "python",
   "pygments_lexer": "ipython3",
   "version": "3.9.7"
  }
 },
 "nbformat": 4,
 "nbformat_minor": 5
}
